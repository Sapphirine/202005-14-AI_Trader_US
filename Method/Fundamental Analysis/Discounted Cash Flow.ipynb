{
 "cells": [
  {
   "cell_type": "code",
   "execution_count": 8,
   "metadata": {},
   "outputs": [],
   "source": [
    "from pyfinmod.basic import npv"
   ]
  },
  {
   "cell_type": "code",
   "execution_count": 76,
   "metadata": {},
   "outputs": [
    {
     "name": "stdout",
     "output_type": "stream",
     "text": [
      "\t\t[Intrinsic Stock Price Estimator for AMAZON]\n",
      "[47356.986700674075, 1, 1, 1, 1, 1, 1, 1, 1, 1]\n"
     ]
    }
   ],
   "source": [
    "import os, sys\n",
    "print(\"\\t\\t[Intrinsic Stock Price Estimator for AMAZON]\")\n",
    "\n",
    "NetCashFlow= 38510 # Net cash ~ millions\n",
    "sharesTotal = 504 # Shares outstanding ~ millions\n",
    "debt = 23414 / sharesTotal # Total Debt ~ millions\n",
    "cash = 55021 / sharesTotal # Cash + Short term investment ~ millions\n",
    "rate = 35 # Long-Term Growth %\n",
    "rate2 = rate / 2\n",
    "\n",
    "cashFlow = [1] * 10\n",
    "cashFlow[0] = NetCashFlow * (rate / 100 + 1)\n",
    "\n",
    "#discountFactor=[0.92, 0.8464, 0.7787, 0.7164, 0.6591, 0.6064, 0.5578, 0.5132, 0.4722, 0.434]\n",
    "\n",
    "discountFactor = []\n",
    "r = 0.0978\n",
    "for i in range(1,11):\n",
    "    discountFactor.append(1/(1+r)**i) \n",
    "\n",
    "discountedValues=[1] * 10\n",
    "discountedValues[0] = discountFactor[0] * cashFlow[0]\n",
    "\n",
    "FinalTotal = 0\n",
    "Sum = discountedValues[0]\n",
    "\n",
    "print(discountedValues)"
   ]
  },
  {
   "cell_type": "code",
   "execution_count": 75,
   "metadata": {},
   "outputs": [
    {
     "name": "stdout",
     "output_type": "stream",
     "text": [
      "\t\tSum: 845498.606766092\n",
      "\t\tValue per Share: $1677.576600726373\n",
      "\t\tDebt (-46.45634920634921) Cash (+109.1686507936508)\n",
      "\t\tFinal: $1740.2889023136747\n"
     ]
    }
   ],
   "source": [
    "for i in range(1,10):\n",
    "    if i < 5:\n",
    "        growthRate = (rate / 100) + 1\n",
    "        cashFlow[i] = cashFlow[i-1] * growthRate\n",
    "        discountedValues[i] = discountFactor[i] * cashFlow[i]\n",
    "        Sum += discountedValues[i]\n",
    "    else:\n",
    "        growthRate = (rate2 / 100) + 1\n",
    "        cashFlow[i] = cashFlow[i-1] * (growthRate)\n",
    "        discountedValues[i] = discountFactor[i] * cashFlow[i]\n",
    "        Sum += discountedValues[i]\n",
    "\n",
    "sharesTotal = Sum / sharesTotal\n",
    "FinalTotal = sharesTotal - debt + cash\n",
    "print(f\"\\t\\tSum: {Sum}\")\n",
    "print(f\"\\t\\tValue per Share: ${sharesTotal}\")\n",
    "print(f\"\\t\\tDebt (-{debt}) Cash (+{cash})\")\n",
    "print(f\"\\t\\tFinal: ${FinalTotal}\")"
   ]
  },
  {
   "cell_type": "code",
   "execution_count": 128,
   "metadata": {},
   "outputs": [
    {
     "name": "stdout",
     "output_type": "stream",
     "text": [
      "\t\t[Intrinsic Stock Price Estimator for APPLE]\n",
      "[80566.13412595207, 1, 1, 1, 1, 1, 1, 1, 1, 1]\n"
     ]
    }
   ],
   "source": [
    "import os, sys\n",
    "print(\"\\t\\t[Intrinsic Stock Price Estimator for APPLE]\")\n",
    "\n",
    "NetCashFlow = 69390 # Net cash ~ millions\n",
    "sharesTotal = 4649 # Shares outstanding ~ millions\n",
    "debt = 93078 / sharesTotal # Total Debt ~ millions\n",
    "cash = 107162 / sharesTotal # Cash + Short term investment ~ millions\n",
    "rate = 25 # Long-Term EPS Growth %\n",
    "\n",
    "rate2 = rate / 2\n",
    "\n",
    "cashFlow = [1] * 10\n",
    "cashFlow[0] = NetCashFlow * (rate / 100 + 1)\n",
    "\n",
    "#discountFactor=[0.92, 0.8464, 0.7787, 0.7164, 0.6591, 0.6064, 0.5578, 0.5132, 0.4722, 0.434]\n",
    "\n",
    "discountFactor = []\n",
    "r = 0.0766\n",
    "for i in range(1,11):\n",
    "    discountFactor.append(1/(1+r)**i) \n",
    "\n",
    "discountedValues=[1] * 10\n",
    "discountedValues[0] = discountFactor[0] * cashFlow[0]\n",
    "\n",
    "FinalTotal = 0\n",
    "Sum = discountedValues[0]\n",
    "\n",
    "print(discountedValues)"
   ]
  },
  {
   "cell_type": "code",
   "execution_count": 129,
   "metadata": {},
   "outputs": [
    {
     "name": "stdout",
     "output_type": "stream",
     "text": [
      "\t\tValue per Share: $299.45\n",
      "\t\tIntrinsic Value: $302.48\n"
     ]
    }
   ],
   "source": [
    "for i in range(1,10):\n",
    "    if i < 5:\n",
    "        growthRate = (rate / 100) + 1\n",
    "        cashFlow[i] = cashFlow[i-1] * growthRate\n",
    "        discountedValues[i] = discountFactor[i] * cashFlow[i]\n",
    "        Sum += discountedValues[i]\n",
    "    else:\n",
    "        growthRate = (rate2 / 100) + 1\n",
    "        cashFlow[i] = cashFlow[i-1] * (growthRate)\n",
    "        discountedValues[i] = discountFactor[i] * cashFlow[i]\n",
    "        Sum += discountedValues[i]\n",
    "\n",
    "sharesTotal = Sum / sharesTotal\n",
    "FinalTotal = sharesTotal - debt + cash\n",
    "#print(f\"\\t\\tSum: {round(Sum,2)}\")\n",
    "#print(f\"\\t\\tValue per Share: ${round(sharesTotal, 2)}\")\n",
    "#print(f\"\\t\\tDebt (-{round(debt,2)}) Cash (+{round(cash,2)})\")\n",
    "print(f\"\\t\\tIntrinsic Value: ${round(FinalTotal, 2)}\")"
   ]
  },
  {
   "cell_type": "code",
   "execution_count": null,
   "metadata": {},
   "outputs": [],
   "source": []
  },
  {
   "cell_type": "code",
   "execution_count": null,
   "metadata": {},
   "outputs": [],
   "source": []
  },
  {
   "cell_type": "code",
   "execution_count": null,
   "metadata": {},
   "outputs": [],
   "source": []
  }
 ],
 "metadata": {
  "kernelspec": {
   "display_name": "Python 3",
   "language": "python",
   "name": "python3"
  },
  "language_info": {
   "codemirror_mode": {
    "name": "ipython",
    "version": 3
   },
   "file_extension": ".py",
   "mimetype": "text/x-python",
   "name": "python",
   "nbconvert_exporter": "python",
   "pygments_lexer": "ipython3",
   "version": "3.7.6"
  },
  "toc": {
   "base_numbering": 1,
   "nav_menu": {},
   "number_sections": true,
   "sideBar": true,
   "skip_h1_title": false,
   "title_cell": "Table of Contents",
   "title_sidebar": "Contents",
   "toc_cell": false,
   "toc_position": {},
   "toc_section_display": true,
   "toc_window_display": false
  }
 },
 "nbformat": 4,
 "nbformat_minor": 4
}
