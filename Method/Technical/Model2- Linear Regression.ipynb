{
 "cells": [
  {
   "cell_type": "markdown",
   "metadata": {},
   "source": [
    "# Linear Regression Model"
   ]
  },
  {
   "cell_type": "markdown",
   "metadata": {},
   "source": [
    "Given the stock prices for the last `N` days, we train a model, and predict the price for day `N+1`"
   ]
  },
  {
   "cell_type": "code",
   "execution_count": 3,
   "metadata": {},
   "outputs": [],
   "source": [
    "import math\n",
    "import matplotlib\n",
    "import numpy as np\n",
    "import pandas as pd\n",
    "import seaborn as sns\n",
    "import time\n",
    "\n",
    "from datetime import date, datetime, time, timedelta\n",
    "from matplotlib import pyplot as plt\n",
    "from pylab import rcParams\n",
    "from sklearn.linear_model import LinearRegression\n",
    "from sklearn.metrics import mean_squared_error\n",
    "from sklearn.metrics import r2_score\n",
    "from tqdm import tqdm_notebook"
   ]
  },
  {
   "cell_type": "markdown",
   "metadata": {},
   "source": [
    "## Data Collection"
   ]
  },
  {
   "cell_type": "code",
   "execution_count": 4,
   "metadata": {},
   "outputs": [
    {
     "name": "stderr",
     "output_type": "stream",
     "text": [
      "/Users/little/opt/anaconda3/lib/python3.7/site-packages/pandas_datareader/compat/__init__.py:7: FutureWarning: pandas.util.testing is deprecated. Use the functions in the public API at pandas.testing instead.\n",
      "  from pandas.util.testing import assert_frame_equal\n"
     ]
    }
   ],
   "source": [
    "import pandas_datareader.data as web\n",
    "import yfinance as yf\n",
    "import datetime\n",
    "\n",
    "def data_collection(ticker, start, end):\n",
    "    \n",
    "    df = web.get_data_yahoo(ticker, start, end)\n",
    "    \n",
    "    # Convert Date column to datetime\n",
    "    #df['Date'] = df.index\n",
    "    #df.loc[:, 'Date'] = pd.to_datetime(df['Date'], format='%Y-%m-%d')\n",
    "\n",
    "    # Change all column headings to be lower case, and remove spacing\n",
    "    df.columns = [str(x).lower().replace(' ', '_') for x in df.columns]\n",
    "\n",
    "    # Get month of each sample\n",
    "    #df['month'] = df['date'].dt.month\n",
    "    \n",
    "    return df"
   ]
  },
  {
   "cell_type": "code",
   "execution_count": 5,
   "metadata": {},
   "outputs": [
    {
     "data": {
      "text/html": [
       "<div>\n",
       "<style scoped>\n",
       "    .dataframe tbody tr th:only-of-type {\n",
       "        vertical-align: middle;\n",
       "    }\n",
       "\n",
       "    .dataframe tbody tr th {\n",
       "        vertical-align: top;\n",
       "    }\n",
       "\n",
       "    .dataframe thead th {\n",
       "        text-align: right;\n",
       "    }\n",
       "</style>\n",
       "<table border=\"1\" class=\"dataframe\">\n",
       "  <thead>\n",
       "    <tr style=\"text-align: right;\">\n",
       "      <th></th>\n",
       "      <th>high</th>\n",
       "      <th>low</th>\n",
       "      <th>open</th>\n",
       "      <th>close</th>\n",
       "      <th>volume</th>\n",
       "      <th>adj_close</th>\n",
       "    </tr>\n",
       "    <tr>\n",
       "      <th>Date</th>\n",
       "      <th></th>\n",
       "      <th></th>\n",
       "      <th></th>\n",
       "      <th></th>\n",
       "      <th></th>\n",
       "      <th></th>\n",
       "    </tr>\n",
       "  </thead>\n",
       "  <tbody>\n",
       "    <tr>\n",
       "      <th>2010-01-04</th>\n",
       "      <td>30.642857</td>\n",
       "      <td>30.340000</td>\n",
       "      <td>30.490000</td>\n",
       "      <td>30.572857</td>\n",
       "      <td>123432400.0</td>\n",
       "      <td>26.538483</td>\n",
       "    </tr>\n",
       "    <tr>\n",
       "      <th>2010-01-05</th>\n",
       "      <td>30.798571</td>\n",
       "      <td>30.464285</td>\n",
       "      <td>30.657143</td>\n",
       "      <td>30.625713</td>\n",
       "      <td>150476200.0</td>\n",
       "      <td>26.584366</td>\n",
       "    </tr>\n",
       "    <tr>\n",
       "      <th>2010-01-06</th>\n",
       "      <td>30.747143</td>\n",
       "      <td>30.107143</td>\n",
       "      <td>30.625713</td>\n",
       "      <td>30.138571</td>\n",
       "      <td>138040000.0</td>\n",
       "      <td>26.161509</td>\n",
       "    </tr>\n",
       "    <tr>\n",
       "      <th>2010-01-07</th>\n",
       "      <td>30.285715</td>\n",
       "      <td>29.864286</td>\n",
       "      <td>30.250000</td>\n",
       "      <td>30.082857</td>\n",
       "      <td>119282800.0</td>\n",
       "      <td>26.113146</td>\n",
       "    </tr>\n",
       "    <tr>\n",
       "      <th>2010-01-08</th>\n",
       "      <td>30.285715</td>\n",
       "      <td>29.865715</td>\n",
       "      <td>30.042856</td>\n",
       "      <td>30.282858</td>\n",
       "      <td>111902700.0</td>\n",
       "      <td>26.286753</td>\n",
       "    </tr>\n",
       "  </tbody>\n",
       "</table>\n",
       "</div>"
      ],
      "text/plain": [
       "                 high        low       open      close       volume  adj_close\n",
       "Date                                                                          \n",
       "2010-01-04  30.642857  30.340000  30.490000  30.572857  123432400.0  26.538483\n",
       "2010-01-05  30.798571  30.464285  30.657143  30.625713  150476200.0  26.584366\n",
       "2010-01-06  30.747143  30.107143  30.625713  30.138571  138040000.0  26.161509\n",
       "2010-01-07  30.285715  29.864286  30.250000  30.082857  119282800.0  26.113146\n",
       "2010-01-08  30.285715  29.865715  30.042856  30.282858  111902700.0  26.286753"
      ]
     },
     "execution_count": 5,
     "metadata": {},
     "output_type": "execute_result"
    }
   ],
   "source": [
    "# Load Data\n",
    "df = data_collection('AAPL', datetime.date(2010,1,1), datetime.date.today())\n",
    "df.head()"
   ]
  },
  {
   "cell_type": "code",
   "execution_count": 30,
   "metadata": {},
   "outputs": [
    {
     "data": {
      "text/html": [
       "<div>\n",
       "<style scoped>\n",
       "    .dataframe tbody tr th:only-of-type {\n",
       "        vertical-align: middle;\n",
       "    }\n",
       "\n",
       "    .dataframe tbody tr th {\n",
       "        vertical-align: top;\n",
       "    }\n",
       "\n",
       "    .dataframe thead th {\n",
       "        text-align: right;\n",
       "    }\n",
       "</style>\n",
       "<table border=\"1\" class=\"dataframe\">\n",
       "  <thead>\n",
       "    <tr style=\"text-align: right;\">\n",
       "      <th></th>\n",
       "      <th>high</th>\n",
       "      <th>low</th>\n",
       "      <th>open</th>\n",
       "      <th>close</th>\n",
       "      <th>volume</th>\n",
       "      <th>adj_close</th>\n",
       "    </tr>\n",
       "    <tr>\n",
       "      <th>Date</th>\n",
       "      <th></th>\n",
       "      <th></th>\n",
       "      <th></th>\n",
       "      <th></th>\n",
       "      <th></th>\n",
       "      <th></th>\n",
       "    </tr>\n",
       "  </thead>\n",
       "  <tbody>\n",
       "    <tr>\n",
       "      <th>2010-01-04</th>\n",
       "      <td>136.610001</td>\n",
       "      <td>133.139999</td>\n",
       "      <td>136.250000</td>\n",
       "      <td>133.899994</td>\n",
       "      <td>7599900</td>\n",
       "      <td>133.899994</td>\n",
       "    </tr>\n",
       "    <tr>\n",
       "      <th>2010-01-05</th>\n",
       "      <td>135.479996</td>\n",
       "      <td>131.809998</td>\n",
       "      <td>133.429993</td>\n",
       "      <td>134.690002</td>\n",
       "      <td>8851900</td>\n",
       "      <td>134.690002</td>\n",
       "    </tr>\n",
       "    <tr>\n",
       "      <th>2010-01-06</th>\n",
       "      <td>134.729996</td>\n",
       "      <td>131.649994</td>\n",
       "      <td>134.600006</td>\n",
       "      <td>132.250000</td>\n",
       "      <td>7178800</td>\n",
       "      <td>132.250000</td>\n",
       "    </tr>\n",
       "    <tr>\n",
       "      <th>2010-01-07</th>\n",
       "      <td>132.320007</td>\n",
       "      <td>128.800003</td>\n",
       "      <td>132.009995</td>\n",
       "      <td>130.000000</td>\n",
       "      <td>11030200</td>\n",
       "      <td>130.000000</td>\n",
       "    </tr>\n",
       "    <tr>\n",
       "      <th>2010-01-08</th>\n",
       "      <td>133.679993</td>\n",
       "      <td>129.029999</td>\n",
       "      <td>130.559998</td>\n",
       "      <td>133.520004</td>\n",
       "      <td>9830500</td>\n",
       "      <td>133.520004</td>\n",
       "    </tr>\n",
       "  </tbody>\n",
       "</table>\n",
       "</div>"
      ],
      "text/plain": [
       "                  high         low        open       close    volume  \\\n",
       "Date                                                                   \n",
       "2010-01-04  136.610001  133.139999  136.250000  133.899994   7599900   \n",
       "2010-01-05  135.479996  131.809998  133.429993  134.690002   8851900   \n",
       "2010-01-06  134.729996  131.649994  134.600006  132.250000   7178800   \n",
       "2010-01-07  132.320007  128.800003  132.009995  130.000000  11030200   \n",
       "2010-01-08  133.679993  129.029999  130.559998  133.520004   9830500   \n",
       "\n",
       "             adj_close  \n",
       "Date                    \n",
       "2010-01-04  133.899994  \n",
       "2010-01-05  134.690002  \n",
       "2010-01-06  132.250000  \n",
       "2010-01-07  130.000000  \n",
       "2010-01-08  133.520004  "
      ]
     },
     "metadata": {},
     "output_type": "display_data"
    },
    {
     "data": {
      "text/html": [
       "<div>\n",
       "<style scoped>\n",
       "    .dataframe tbody tr th:only-of-type {\n",
       "        vertical-align: middle;\n",
       "    }\n",
       "\n",
       "    .dataframe tbody tr th {\n",
       "        vertical-align: top;\n",
       "    }\n",
       "\n",
       "    .dataframe thead th {\n",
       "        text-align: right;\n",
       "    }\n",
       "</style>\n",
       "<table border=\"1\" class=\"dataframe\">\n",
       "  <thead>\n",
       "    <tr style=\"text-align: right;\">\n",
       "      <th></th>\n",
       "      <th>high</th>\n",
       "      <th>low</th>\n",
       "      <th>open</th>\n",
       "      <th>close</th>\n",
       "      <th>volume</th>\n",
       "      <th>adj_close</th>\n",
       "    </tr>\n",
       "    <tr>\n",
       "      <th>Date</th>\n",
       "      <th></th>\n",
       "      <th></th>\n",
       "      <th></th>\n",
       "      <th></th>\n",
       "      <th></th>\n",
       "      <th></th>\n",
       "    </tr>\n",
       "  </thead>\n",
       "  <tbody>\n",
       "    <tr>\n",
       "      <th>2018-01-02</th>\n",
       "      <td>1190.000000</td>\n",
       "      <td>1170.510010</td>\n",
       "      <td>1172.000000</td>\n",
       "      <td>1189.010010</td>\n",
       "      <td>2694500</td>\n",
       "      <td>1189.010010</td>\n",
       "    </tr>\n",
       "    <tr>\n",
       "      <th>2018-01-03</th>\n",
       "      <td>1205.489990</td>\n",
       "      <td>1188.300049</td>\n",
       "      <td>1188.300049</td>\n",
       "      <td>1204.199951</td>\n",
       "      <td>3108800</td>\n",
       "      <td>1204.199951</td>\n",
       "    </tr>\n",
       "    <tr>\n",
       "      <th>2018-01-04</th>\n",
       "      <td>1215.869995</td>\n",
       "      <td>1204.660034</td>\n",
       "      <td>1205.000000</td>\n",
       "      <td>1209.589966</td>\n",
       "      <td>3022100</td>\n",
       "      <td>1209.589966</td>\n",
       "    </tr>\n",
       "    <tr>\n",
       "      <th>2018-01-05</th>\n",
       "      <td>1229.140015</td>\n",
       "      <td>1210.000000</td>\n",
       "      <td>1217.510010</td>\n",
       "      <td>1229.140015</td>\n",
       "      <td>3544700</td>\n",
       "      <td>1229.140015</td>\n",
       "    </tr>\n",
       "    <tr>\n",
       "      <th>2018-01-08</th>\n",
       "      <td>1253.079956</td>\n",
       "      <td>1232.030029</td>\n",
       "      <td>1236.000000</td>\n",
       "      <td>1246.869995</td>\n",
       "      <td>4279500</td>\n",
       "      <td>1246.869995</td>\n",
       "    </tr>\n",
       "  </tbody>\n",
       "</table>\n",
       "</div>"
      ],
      "text/plain": [
       "                   high          low         open        close   volume  \\\n",
       "Date                                                                      \n",
       "2018-01-02  1190.000000  1170.510010  1172.000000  1189.010010  2694500   \n",
       "2018-01-03  1205.489990  1188.300049  1188.300049  1204.199951  3108800   \n",
       "2018-01-04  1215.869995  1204.660034  1205.000000  1209.589966  3022100   \n",
       "2018-01-05  1229.140015  1210.000000  1217.510010  1229.140015  3544700   \n",
       "2018-01-08  1253.079956  1232.030029  1236.000000  1246.869995  4279500   \n",
       "\n",
       "              adj_close  \n",
       "Date                     \n",
       "2018-01-02  1189.010010  \n",
       "2018-01-03  1204.199951  \n",
       "2018-01-04  1209.589966  \n",
       "2018-01-05  1229.140015  \n",
       "2018-01-08  1246.869995  "
      ]
     },
     "metadata": {},
     "output_type": "display_data"
    }
   ],
   "source": [
    "# Split train & test\n",
    "train = data_collection('AMZN', datetime.date(2010,1,1), datetime.date(2017,12,31))\n",
    "test = data_collection('AMZN', datetime.date(2018,1,1), datetime.date.today())\n",
    "\n",
    "display(train.head())\n",
    "display(test.head())"
   ]
  },
  {
   "cell_type": "markdown",
   "metadata": {},
   "source": [
    "## Prediction"
   ]
  },
  {
   "cell_type": "code",
   "execution_count": 17,
   "metadata": {},
   "outputs": [
    {
     "data": {
      "text/html": [
       "<div>\n",
       "<style scoped>\n",
       "    .dataframe tbody tr th:only-of-type {\n",
       "        vertical-align: middle;\n",
       "    }\n",
       "\n",
       "    .dataframe tbody tr th {\n",
       "        vertical-align: top;\n",
       "    }\n",
       "\n",
       "    .dataframe thead th {\n",
       "        text-align: right;\n",
       "    }\n",
       "</style>\n",
       "<table border=\"1\" class=\"dataframe\">\n",
       "  <thead>\n",
       "    <tr style=\"text-align: right;\">\n",
       "      <th></th>\n",
       "      <th>high</th>\n",
       "      <th>low</th>\n",
       "      <th>open</th>\n",
       "      <th>volume</th>\n",
       "      <th>adj_close</th>\n",
       "    </tr>\n",
       "    <tr>\n",
       "      <th>Date</th>\n",
       "      <th></th>\n",
       "      <th></th>\n",
       "      <th></th>\n",
       "      <th></th>\n",
       "      <th></th>\n",
       "    </tr>\n",
       "  </thead>\n",
       "  <tbody>\n",
       "    <tr>\n",
       "      <th>2010-01-04</th>\n",
       "      <td>136.610001</td>\n",
       "      <td>133.139999</td>\n",
       "      <td>136.250000</td>\n",
       "      <td>7599900</td>\n",
       "      <td>133.899994</td>\n",
       "    </tr>\n",
       "    <tr>\n",
       "      <th>2010-01-05</th>\n",
       "      <td>135.479996</td>\n",
       "      <td>131.809998</td>\n",
       "      <td>133.429993</td>\n",
       "      <td>8851900</td>\n",
       "      <td>134.690002</td>\n",
       "    </tr>\n",
       "    <tr>\n",
       "      <th>2010-01-06</th>\n",
       "      <td>134.729996</td>\n",
       "      <td>131.649994</td>\n",
       "      <td>134.600006</td>\n",
       "      <td>7178800</td>\n",
       "      <td>132.250000</td>\n",
       "    </tr>\n",
       "    <tr>\n",
       "      <th>2010-01-07</th>\n",
       "      <td>132.320007</td>\n",
       "      <td>128.800003</td>\n",
       "      <td>132.009995</td>\n",
       "      <td>11030200</td>\n",
       "      <td>130.000000</td>\n",
       "    </tr>\n",
       "    <tr>\n",
       "      <th>2010-01-08</th>\n",
       "      <td>133.679993</td>\n",
       "      <td>129.029999</td>\n",
       "      <td>130.559998</td>\n",
       "      <td>9830500</td>\n",
       "      <td>133.520004</td>\n",
       "    </tr>\n",
       "    <tr>\n",
       "      <th>...</th>\n",
       "      <td>...</td>\n",
       "      <td>...</td>\n",
       "      <td>...</td>\n",
       "      <td>...</td>\n",
       "      <td>...</td>\n",
       "    </tr>\n",
       "    <tr>\n",
       "      <th>2017-12-22</th>\n",
       "      <td>1174.619995</td>\n",
       "      <td>1167.829956</td>\n",
       "      <td>1172.079956</td>\n",
       "      <td>1585100</td>\n",
       "      <td>1168.359985</td>\n",
       "    </tr>\n",
       "    <tr>\n",
       "      <th>2017-12-26</th>\n",
       "      <td>1178.319946</td>\n",
       "      <td>1160.550049</td>\n",
       "      <td>1168.359985</td>\n",
       "      <td>2005200</td>\n",
       "      <td>1176.760010</td>\n",
       "    </tr>\n",
       "    <tr>\n",
       "      <th>2017-12-27</th>\n",
       "      <td>1187.290039</td>\n",
       "      <td>1175.609985</td>\n",
       "      <td>1179.910034</td>\n",
       "      <td>1867200</td>\n",
       "      <td>1182.260010</td>\n",
       "    </tr>\n",
       "    <tr>\n",
       "      <th>2017-12-28</th>\n",
       "      <td>1190.099976</td>\n",
       "      <td>1184.380005</td>\n",
       "      <td>1189.000000</td>\n",
       "      <td>1841700</td>\n",
       "      <td>1186.099976</td>\n",
       "    </tr>\n",
       "    <tr>\n",
       "      <th>2017-12-29</th>\n",
       "      <td>1184.000000</td>\n",
       "      <td>1167.500000</td>\n",
       "      <td>1182.349976</td>\n",
       "      <td>2688400</td>\n",
       "      <td>1169.469971</td>\n",
       "    </tr>\n",
       "  </tbody>\n",
       "</table>\n",
       "<p>2013 rows × 5 columns</p>\n",
       "</div>"
      ],
      "text/plain": [
       "                   high          low         open    volume    adj_close\n",
       "Date                                                                    \n",
       "2010-01-04   136.610001   133.139999   136.250000   7599900   133.899994\n",
       "2010-01-05   135.479996   131.809998   133.429993   8851900   134.690002\n",
       "2010-01-06   134.729996   131.649994   134.600006   7178800   132.250000\n",
       "2010-01-07   132.320007   128.800003   132.009995  11030200   130.000000\n",
       "2010-01-08   133.679993   129.029999   130.559998   9830500   133.520004\n",
       "...                 ...          ...          ...       ...          ...\n",
       "2017-12-22  1174.619995  1167.829956  1172.079956   1585100  1168.359985\n",
       "2017-12-26  1178.319946  1160.550049  1168.359985   2005200  1176.760010\n",
       "2017-12-27  1187.290039  1175.609985  1179.910034   1867200  1182.260010\n",
       "2017-12-28  1190.099976  1184.380005  1189.000000   1841700  1186.099976\n",
       "2017-12-29  1184.000000  1167.500000  1182.349976   2688400  1169.469971\n",
       "\n",
       "[2013 rows x 5 columns]"
      ]
     },
     "execution_count": 17,
     "metadata": {},
     "output_type": "execute_result"
    }
   ],
   "source": [
    "X_train = train.drop('close', axis=1)\n",
    "X_train"
   ]
  },
  {
   "cell_type": "code",
   "execution_count": 116,
   "metadata": {},
   "outputs": [
    {
     "data": {
      "text/html": [
       "<div>\n",
       "<style scoped>\n",
       "    .dataframe tbody tr th:only-of-type {\n",
       "        vertical-align: middle;\n",
       "    }\n",
       "\n",
       "    .dataframe tbody tr th {\n",
       "        vertical-align: top;\n",
       "    }\n",
       "\n",
       "    .dataframe thead th {\n",
       "        text-align: right;\n",
       "    }\n",
       "</style>\n",
       "<table border=\"1\" class=\"dataframe\">\n",
       "  <thead>\n",
       "    <tr style=\"text-align: right;\">\n",
       "      <th></th>\n",
       "      <th>high</th>\n",
       "      <th>low</th>\n",
       "      <th>open</th>\n",
       "      <th>close</th>\n",
       "      <th>volume</th>\n",
       "      <th>adj_close</th>\n",
       "    </tr>\n",
       "    <tr>\n",
       "      <th>Date</th>\n",
       "      <th></th>\n",
       "      <th></th>\n",
       "      <th></th>\n",
       "      <th></th>\n",
       "      <th></th>\n",
       "      <th></th>\n",
       "    </tr>\n",
       "  </thead>\n",
       "  <tbody>\n",
       "    <tr>\n",
       "      <th>2017-12-21</th>\n",
       "      <td>1179.170044</td>\n",
       "      <td>1167.640015</td>\n",
       "      <td>1175.900024</td>\n",
       "      <td>1174.760010</td>\n",
       "      <td>2123100</td>\n",
       "      <td>1174.760010</td>\n",
       "    </tr>\n",
       "    <tr>\n",
       "      <th>2017-12-22</th>\n",
       "      <td>1174.619995</td>\n",
       "      <td>1167.829956</td>\n",
       "      <td>1172.079956</td>\n",
       "      <td>1168.359985</td>\n",
       "      <td>1585100</td>\n",
       "      <td>1168.359985</td>\n",
       "    </tr>\n",
       "    <tr>\n",
       "      <th>2017-12-26</th>\n",
       "      <td>1178.319946</td>\n",
       "      <td>1160.550049</td>\n",
       "      <td>1168.359985</td>\n",
       "      <td>1176.760010</td>\n",
       "      <td>2005200</td>\n",
       "      <td>1176.760010</td>\n",
       "    </tr>\n",
       "    <tr>\n",
       "      <th>2017-12-27</th>\n",
       "      <td>1187.290039</td>\n",
       "      <td>1175.609985</td>\n",
       "      <td>1179.910034</td>\n",
       "      <td>1182.260010</td>\n",
       "      <td>1867200</td>\n",
       "      <td>1182.260010</td>\n",
       "    </tr>\n",
       "    <tr>\n",
       "      <th>2017-12-28</th>\n",
       "      <td>1190.099976</td>\n",
       "      <td>1184.380005</td>\n",
       "      <td>1189.000000</td>\n",
       "      <td>1186.099976</td>\n",
       "      <td>1841700</td>\n",
       "      <td>1186.099976</td>\n",
       "    </tr>\n",
       "    <tr>\n",
       "      <th>2017-12-29</th>\n",
       "      <td>1184.000000</td>\n",
       "      <td>1167.500000</td>\n",
       "      <td>1182.349976</td>\n",
       "      <td>1169.469971</td>\n",
       "      <td>2688400</td>\n",
       "      <td>1169.469971</td>\n",
       "    </tr>\n",
       "  </tbody>\n",
       "</table>\n",
       "</div>"
      ],
      "text/plain": [
       "                   high          low         open        close   volume  \\\n",
       "Date                                                                      \n",
       "2017-12-21  1179.170044  1167.640015  1175.900024  1174.760010  2123100   \n",
       "2017-12-22  1174.619995  1167.829956  1172.079956  1168.359985  1585100   \n",
       "2017-12-26  1178.319946  1160.550049  1168.359985  1176.760010  2005200   \n",
       "2017-12-27  1187.290039  1175.609985  1179.910034  1182.260010  1867200   \n",
       "2017-12-28  1190.099976  1184.380005  1189.000000  1186.099976  1841700   \n",
       "2017-12-29  1184.000000  1167.500000  1182.349976  1169.469971  2688400   \n",
       "\n",
       "              adj_close  \n",
       "Date                     \n",
       "2017-12-21  1174.760010  \n",
       "2017-12-22  1168.359985  \n",
       "2017-12-26  1176.760010  \n",
       "2017-12-27  1182.260010  \n",
       "2017-12-28  1186.099976  \n",
       "2017-12-29  1169.469971  "
      ]
     },
     "execution_count": 116,
     "metadata": {},
     "output_type": "execute_result"
    }
   ],
   "source": [
    "train.tail(6)"
   ]
  },
  {
   "cell_type": "code",
   "execution_count": 7,
   "metadata": {},
   "outputs": [
    {
     "data": {
      "text/plain": [
       "array([[1168.35998535],\n",
       "       [1176.76000977],\n",
       "       [1182.26000977],\n",
       "       [1186.09997559],\n",
       "       [1169.4699707 ]])"
      ]
     },
     "execution_count": 7,
     "metadata": {},
     "output_type": "execute_result"
    }
   ],
   "source": [
    "Y_train = np.array(train['close'][len(train) - 5 : len(df)]).reshape(-1, 1)\n",
    "Y_train"
   ]
  },
  {
   "cell_type": "code",
   "execution_count": 140,
   "metadata": {},
   "outputs": [
    {
     "name": "stdout",
     "output_type": "stream",
     "text": [
      "[1210.03901214]\n",
      "[[ 5.75435213e+00 -2.25067715e-05]]\n"
     ]
    }
   ],
   "source": [
    "# Train the model\n",
    "reg = LinearRegression(fit_intercept = True)\n",
    "reg.fit(X_train, Y_train)        \n",
    "\n",
    "print(reg.intercept_)\n",
    "print(reg.coef_)"
   ]
  },
  {
   "cell_type": "code",
   "execution_count": 132,
   "metadata": {},
   "outputs": [
    {
     "data": {
      "text/plain": [
       "array([[0],\n",
       "       [1],\n",
       "       [2],\n",
       "       [3],\n",
       "       [4]])"
      ]
     },
     "execution_count": 132,
     "metadata": {},
     "output_type": "execute_result"
    }
   ],
   "source": [
    "X_train = np.array(range(len(df['close'][0 : 5]))).reshape(-1, 1)\n",
    "X_train"
   ]
  },
  {
   "cell_type": "code",
   "execution_count": 138,
   "metadata": {},
   "outputs": [
    {
     "name": "stdout",
     "output_type": "stream",
     "text": [
      "[[1180.05797119]]\n"
     ]
    }
   ],
   "source": [
    "# Predict the `N+1` day stock price\n",
    "pred1 = reg.predict(np.array(5).reshape(1,-1))\n",
    "print(pred1)"
   ]
  },
  {
   "cell_type": "markdown",
   "metadata": {},
   "source": [
    "### X_train: 0, volume"
   ]
  },
  {
   "cell_type": "code",
   "execution_count": 139,
   "metadata": {},
   "outputs": [
    {
     "data": {
      "text/plain": [
       "array([[      0, 1585100],\n",
       "       [      1, 2005200],\n",
       "       [      2, 1867200],\n",
       "       [      3, 1841700],\n",
       "       [      4, 2688400]])"
      ]
     },
     "execution_count": 139,
     "metadata": {},
     "output_type": "execute_result"
    }
   ],
   "source": [
    "X_train = np.array([[0, 1585100], [1, 2005200], [2,1867200], [3,1841700], [4,2688400]])\n",
    "X_train"
   ]
  },
  {
   "cell_type": "code",
   "execution_count": 141,
   "metadata": {},
   "outputs": [
    {
     "name": "stdout",
     "output_type": "stream",
     "text": [
      "[[1178.30356835]]\n"
     ]
    }
   ],
   "source": [
    "# Predict the `N+1` day stock price with volume\n",
    "pred2 = reg.predict(np.array([[5, 2688400]]).reshape(1,-1))\n",
    "print(pred2)"
   ]
  },
  {
   "cell_type": "markdown",
   "metadata": {},
   "source": [
    "### X_train: drop 'close'"
   ]
  },
  {
   "cell_type": "code",
   "execution_count": 31,
   "metadata": {},
   "outputs": [
    {
     "data": {
      "text/plain": [
       "array([[1.36610001e+02, 1.33139999e+02, 1.36250000e+02, 7.59990000e+06,\n",
       "        1.33899994e+02],\n",
       "       [1.35479996e+02, 1.31809998e+02, 1.33429993e+02, 8.85190000e+06,\n",
       "        1.34690002e+02],\n",
       "       [1.34729996e+02, 1.31649994e+02, 1.34600006e+02, 7.17880000e+06,\n",
       "        1.32250000e+02],\n",
       "       [1.32320007e+02, 1.28800003e+02, 1.32009995e+02, 1.10302000e+07,\n",
       "        1.30000000e+02],\n",
       "       [1.33679993e+02, 1.29029999e+02, 1.30559998e+02, 9.83050000e+06,\n",
       "        1.33520004e+02],\n",
       "       [1.32800003e+02, 1.29210007e+02, 1.32619995e+02, 8.77940000e+06,\n",
       "        1.30309998e+02],\n",
       "       [1.29820007e+02, 1.26550003e+02, 1.28990005e+02, 9.09630000e+06,\n",
       "        1.27349998e+02],\n",
       "       [1.29710007e+02, 1.25750000e+02, 1.27900002e+02, 1.07232000e+07,\n",
       "        1.29110001e+02],\n",
       "       [1.30380005e+02, 1.26400002e+02, 1.29139999e+02, 9.77490000e+06,\n",
       "        1.27349998e+02],\n",
       "       [1.29649994e+02, 1.27059998e+02, 1.29179993e+02, 1.53765000e+07,\n",
       "        1.27139999e+02]])"
      ]
     },
     "execution_count": 31,
     "metadata": {},
     "output_type": "execute_result"
    }
   ],
   "source": [
    "X_train = np.array(df.drop('close', axis = 1)[0:10])\n",
    "X_train"
   ]
  },
  {
   "cell_type": "code",
   "execution_count": 34,
   "metadata": {},
   "outputs": [
    {
     "data": {
      "text/plain": [
       "array([[133.8999939 ],\n",
       "       [134.69000244],\n",
       "       [132.25      ],\n",
       "       [130.        ],\n",
       "       [133.52000427],\n",
       "       [130.30999756],\n",
       "       [127.34999847],\n",
       "       [129.11000061],\n",
       "       [127.34999847],\n",
       "       [127.13999939]])"
      ]
     },
     "execution_count": 34,
     "metadata": {},
     "output_type": "execute_result"
    }
   ],
   "source": [
    "Y_train = np.array(df['close'][0:10]).reshape(-1, 1)\n",
    "Y_train"
   ]
  },
  {
   "cell_type": "code",
   "execution_count": 35,
   "metadata": {},
   "outputs": [
    {
     "data": {
      "text/html": [
       "<div>\n",
       "<style scoped>\n",
       "    .dataframe tbody tr th:only-of-type {\n",
       "        vertical-align: middle;\n",
       "    }\n",
       "\n",
       "    .dataframe tbody tr th {\n",
       "        vertical-align: top;\n",
       "    }\n",
       "\n",
       "    .dataframe thead th {\n",
       "        text-align: right;\n",
       "    }\n",
       "</style>\n",
       "<table border=\"1\" class=\"dataframe\">\n",
       "  <thead>\n",
       "    <tr style=\"text-align: right;\">\n",
       "      <th></th>\n",
       "      <th>high</th>\n",
       "      <th>low</th>\n",
       "      <th>open</th>\n",
       "      <th>close</th>\n",
       "      <th>volume</th>\n",
       "      <th>adj_close</th>\n",
       "    </tr>\n",
       "    <tr>\n",
       "      <th>Date</th>\n",
       "      <th></th>\n",
       "      <th></th>\n",
       "      <th></th>\n",
       "      <th></th>\n",
       "      <th></th>\n",
       "      <th></th>\n",
       "    </tr>\n",
       "  </thead>\n",
       "  <tbody>\n",
       "    <tr>\n",
       "      <th>2010-01-04</th>\n",
       "      <td>136.610001</td>\n",
       "      <td>133.139999</td>\n",
       "      <td>136.250000</td>\n",
       "      <td>133.899994</td>\n",
       "      <td>7599900</td>\n",
       "      <td>133.899994</td>\n",
       "    </tr>\n",
       "    <tr>\n",
       "      <th>2010-01-05</th>\n",
       "      <td>135.479996</td>\n",
       "      <td>131.809998</td>\n",
       "      <td>133.429993</td>\n",
       "      <td>134.690002</td>\n",
       "      <td>8851900</td>\n",
       "      <td>134.690002</td>\n",
       "    </tr>\n",
       "    <tr>\n",
       "      <th>2010-01-06</th>\n",
       "      <td>134.729996</td>\n",
       "      <td>131.649994</td>\n",
       "      <td>134.600006</td>\n",
       "      <td>132.250000</td>\n",
       "      <td>7178800</td>\n",
       "      <td>132.250000</td>\n",
       "    </tr>\n",
       "    <tr>\n",
       "      <th>2010-01-07</th>\n",
       "      <td>132.320007</td>\n",
       "      <td>128.800003</td>\n",
       "      <td>132.009995</td>\n",
       "      <td>130.000000</td>\n",
       "      <td>11030200</td>\n",
       "      <td>130.000000</td>\n",
       "    </tr>\n",
       "    <tr>\n",
       "      <th>2010-01-08</th>\n",
       "      <td>133.679993</td>\n",
       "      <td>129.029999</td>\n",
       "      <td>130.559998</td>\n",
       "      <td>133.520004</td>\n",
       "      <td>9830500</td>\n",
       "      <td>133.520004</td>\n",
       "    </tr>\n",
       "    <tr>\n",
       "      <th>2010-01-11</th>\n",
       "      <td>132.800003</td>\n",
       "      <td>129.210007</td>\n",
       "      <td>132.619995</td>\n",
       "      <td>130.309998</td>\n",
       "      <td>8779400</td>\n",
       "      <td>130.309998</td>\n",
       "    </tr>\n",
       "    <tr>\n",
       "      <th>2010-01-12</th>\n",
       "      <td>129.820007</td>\n",
       "      <td>126.550003</td>\n",
       "      <td>128.990005</td>\n",
       "      <td>127.349998</td>\n",
       "      <td>9096300</td>\n",
       "      <td>127.349998</td>\n",
       "    </tr>\n",
       "    <tr>\n",
       "      <th>2010-01-13</th>\n",
       "      <td>129.710007</td>\n",
       "      <td>125.750000</td>\n",
       "      <td>127.900002</td>\n",
       "      <td>129.110001</td>\n",
       "      <td>10723200</td>\n",
       "      <td>129.110001</td>\n",
       "    </tr>\n",
       "    <tr>\n",
       "      <th>2010-01-14</th>\n",
       "      <td>130.380005</td>\n",
       "      <td>126.400002</td>\n",
       "      <td>129.139999</td>\n",
       "      <td>127.349998</td>\n",
       "      <td>9774900</td>\n",
       "      <td>127.349998</td>\n",
       "    </tr>\n",
       "    <tr>\n",
       "      <th>2010-01-15</th>\n",
       "      <td>129.649994</td>\n",
       "      <td>127.059998</td>\n",
       "      <td>129.179993</td>\n",
       "      <td>127.139999</td>\n",
       "      <td>15376500</td>\n",
       "      <td>127.139999</td>\n",
       "    </tr>\n",
       "    <tr>\n",
       "      <th>2010-01-19</th>\n",
       "      <td>128.000000</td>\n",
       "      <td>124.330002</td>\n",
       "      <td>126.309998</td>\n",
       "      <td>127.610001</td>\n",
       "      <td>8892600</td>\n",
       "      <td>127.610001</td>\n",
       "    </tr>\n",
       "  </tbody>\n",
       "</table>\n",
       "</div>"
      ],
      "text/plain": [
       "                  high         low        open       close    volume  \\\n",
       "Date                                                                   \n",
       "2010-01-04  136.610001  133.139999  136.250000  133.899994   7599900   \n",
       "2010-01-05  135.479996  131.809998  133.429993  134.690002   8851900   \n",
       "2010-01-06  134.729996  131.649994  134.600006  132.250000   7178800   \n",
       "2010-01-07  132.320007  128.800003  132.009995  130.000000  11030200   \n",
       "2010-01-08  133.679993  129.029999  130.559998  133.520004   9830500   \n",
       "2010-01-11  132.800003  129.210007  132.619995  130.309998   8779400   \n",
       "2010-01-12  129.820007  126.550003  128.990005  127.349998   9096300   \n",
       "2010-01-13  129.710007  125.750000  127.900002  129.110001  10723200   \n",
       "2010-01-14  130.380005  126.400002  129.139999  127.349998   9774900   \n",
       "2010-01-15  129.649994  127.059998  129.179993  127.139999  15376500   \n",
       "2010-01-19  128.000000  124.330002  126.309998  127.610001   8892600   \n",
       "\n",
       "             adj_close  \n",
       "Date                    \n",
       "2010-01-04  133.899994  \n",
       "2010-01-05  134.690002  \n",
       "2010-01-06  132.250000  \n",
       "2010-01-07  130.000000  \n",
       "2010-01-08  133.520004  \n",
       "2010-01-11  130.309998  \n",
       "2010-01-12  127.349998  \n",
       "2010-01-13  129.110001  \n",
       "2010-01-14  127.349998  \n",
       "2010-01-15  127.139999  \n",
       "2010-01-19  127.610001  "
      ]
     },
     "execution_count": 35,
     "metadata": {},
     "output_type": "execute_result"
    }
   ],
   "source": [
    "df.head(11)"
   ]
  },
  {
   "cell_type": "code",
   "execution_count": 36,
   "metadata": {},
   "outputs": [
    {
     "name": "stdout",
     "output_type": "stream",
     "text": [
      "[-3.22586402e-11]\n",
      "[[-1.37789932e-15  6.09208489e-16  4.13413066e-16  3.27901988e-18\n",
      "   1.00000000e+00]]\n"
     ]
    }
   ],
   "source": [
    "# Train the model\n",
    "reg = LinearRegression(fit_intercept = True)\n",
    "reg.fit(X_train, Y_train)        \n",
    "\n",
    "print(reg.intercept_)\n",
    "print(reg.coef_)"
   ]
  },
  {
   "cell_type": "code",
   "execution_count": 37,
   "metadata": {},
   "outputs": [
    {
     "data": {
      "text/plain": [
       "high         1.280000e+02\n",
       "low          1.243300e+02\n",
       "open         1.263100e+02\n",
       "volume       8.892600e+06\n",
       "adj_close    1.276100e+02\n",
       "Name: 2010-01-19 00:00:00, dtype: float64"
      ]
     },
     "execution_count": 37,
     "metadata": {},
     "output_type": "execute_result"
    }
   ],
   "source": [
    "df.drop('close', axis = 1).iloc[10]"
   ]
  },
  {
   "cell_type": "code",
   "execution_count": 38,
   "metadata": {},
   "outputs": [
    {
     "name": "stdout",
     "output_type": "stream",
     "text": [
      "[[127.61000061]]\n"
     ]
    }
   ],
   "source": [
    "# Predict the `N+1` day stock price\n",
    "pred3 = reg.predict(np.array(df.drop('close', axis = 1).iloc[10]).reshape(1,-1))\n",
    "print(pred3)"
   ]
  },
  {
   "cell_type": "code",
   "execution_count": 68,
   "metadata": {},
   "outputs": [
    {
     "data": {
      "text/plain": [
       "2.731545129132505"
      ]
     },
     "execution_count": 68,
     "metadata": {},
     "output_type": "execute_result"
    }
   ],
   "source": [
    "np.std(Y_train)"
   ]
  },
  {
   "cell_type": "code",
   "execution_count": 19,
   "metadata": {},
   "outputs": [
    {
     "data": {
      "text/plain": [
       "array([[131.91995815]])"
      ]
     },
     "execution_count": 19,
     "metadata": {},
     "output_type": "execute_result"
    }
   ],
   "source": [
    "pred3 + np.std(Y_train)"
   ]
  },
  {
   "cell_type": "code",
   "execution_count": 21,
   "metadata": {},
   "outputs": [
    {
     "data": {
      "text/plain": [
       "2013"
      ]
     },
     "execution_count": 21,
     "metadata": {},
     "output_type": "execute_result"
    }
   ],
   "source": [
    "num_train = len(train)\n",
    "num_train"
   ]
  },
  {
   "cell_type": "code",
   "execution_count": 22,
   "metadata": {},
   "outputs": [
    {
     "data": {
      "text/plain": [
       "553"
      ]
     },
     "execution_count": 22,
     "metadata": {},
     "output_type": "execute_result"
    }
   ],
   "source": [
    "num_test = len(test)\n",
    "num_test"
   ]
  },
  {
   "cell_type": "code",
   "execution_count": 23,
   "metadata": {},
   "outputs": [
    {
     "data": {
      "text/plain": [
       "range(2013, 2566)"
      ]
     },
     "execution_count": 23,
     "metadata": {},
     "output_type": "execute_result"
    }
   ],
   "source": [
    "range(num_train, len(df['close']))"
   ]
  },
  {
   "cell_type": "code",
   "execution_count": 26,
   "metadata": {},
   "outputs": [
    {
     "data": {
      "text/plain": [
       "range(0, 2566)"
      ]
     },
     "execution_count": 26,
     "metadata": {},
     "output_type": "execute_result"
    }
   ],
   "source": [
    "range(len(df['close']))"
   ]
  },
  {
   "cell_type": "markdown",
   "metadata": {},
   "source": [
    "### Function: Moving Linear Regression"
   ]
  },
  {
   "cell_type": "code",
   "execution_count": 1,
   "metadata": {},
   "outputs": [],
   "source": [
    "def linear_prediction(df, target_col, N, pred_min, offset):\n",
    "    \"\"\"\n",
    "    Given a dataframe of stock price, get prediction at timestep t using values from t-1, t-2, ..., t-N.\n",
    "    Inputs\n",
    "        df         : dataframe with the values you want to predict\n",
    "        target_col : name of the column you want to predict e.g. 'close'\n",
    "        N          : get prediction at timestep t using values from t-1, t-2, ..., t-N\n",
    "        pred_min   : all predictions should be >= pred_min, e.g. '0'\n",
    "        offset     : for df we only do predictions for df[offset:]. e.g. offset can be size of training set\n",
    "    Outputs\n",
    "        pred_list  : the predictions for target_col. np.array of length len(df)-offset.\n",
    "    \"\"\"\n",
    "    \n",
    "    # Define a regressor\n",
    "    reg = LinearRegression(fit_intercept = True)\n",
    "\n",
    "    # Create a prediction list\n",
    "    pred_list = []\n",
    "\n",
    "    for i in range(offset, len(df[target_col])):\n",
    "        # Defind the training set\n",
    "        X_train = np.array(range(len(df[target_col][i-N : i]))) # e.g. [0 1 2 3 4]\n",
    "        X_train = X_train.reshape(-1, 1) # transfor the data dimension\n",
    "        Y_train = np.array(df[target_col][i-N : i]) # e.g.[30.5728569 , 30.62571335, 30.13857079, 30.08285713, 30.28285789]\n",
    "        Y_train = Y_train.reshape(-1, 1)\n",
    "        \n",
    "        # Train the model\n",
    "        reg.fit(X_train, Y_train)        \n",
    "        \n",
    "        # Predict the `N+1` day stock price\n",
    "        pred = reg.predict(np.array(N).reshape(1,-1))\n",
    "        \n",
    "        # Add the predicted result to the list\n",
    "        pred_list.append(pred[0][0])\n",
    "        \n",
    "    # If the values are < pred_min, set it to be pred_min\n",
    "    pred_list = np.array(pred_list)\n",
    "    pred_list[pred_list < pred_min] = pred_min\n",
    "        \n",
    "    return pred_list    "
   ]
  },
  {
   "cell_type": "code",
   "execution_count": 39,
   "metadata": {
    "scrolled": true
   },
   "outputs": [
    {
     "data": {
      "text/html": [
       "<div>\n",
       "<style scoped>\n",
       "    .dataframe tbody tr th:only-of-type {\n",
       "        vertical-align: middle;\n",
       "    }\n",
       "\n",
       "    .dataframe tbody tr th {\n",
       "        vertical-align: top;\n",
       "    }\n",
       "\n",
       "    .dataframe thead th {\n",
       "        text-align: right;\n",
       "    }\n",
       "</style>\n",
       "<table border=\"1\" class=\"dataframe\">\n",
       "  <thead>\n",
       "    <tr style=\"text-align: right;\">\n",
       "      <th></th>\n",
       "      <th>high</th>\n",
       "      <th>low</th>\n",
       "      <th>open</th>\n",
       "      <th>close</th>\n",
       "      <th>volume</th>\n",
       "      <th>adj_close</th>\n",
       "    </tr>\n",
       "    <tr>\n",
       "      <th>Date</th>\n",
       "      <th></th>\n",
       "      <th></th>\n",
       "      <th></th>\n",
       "      <th></th>\n",
       "      <th></th>\n",
       "      <th></th>\n",
       "    </tr>\n",
       "  </thead>\n",
       "  <tbody>\n",
       "    <tr>\n",
       "      <th>2010-01-04</th>\n",
       "      <td>136.610001</td>\n",
       "      <td>133.139999</td>\n",
       "      <td>136.250000</td>\n",
       "      <td>133.899994</td>\n",
       "      <td>7599900</td>\n",
       "      <td>133.899994</td>\n",
       "    </tr>\n",
       "    <tr>\n",
       "      <th>2010-01-05</th>\n",
       "      <td>135.479996</td>\n",
       "      <td>131.809998</td>\n",
       "      <td>133.429993</td>\n",
       "      <td>134.690002</td>\n",
       "      <td>8851900</td>\n",
       "      <td>134.690002</td>\n",
       "    </tr>\n",
       "    <tr>\n",
       "      <th>2010-01-06</th>\n",
       "      <td>134.729996</td>\n",
       "      <td>131.649994</td>\n",
       "      <td>134.600006</td>\n",
       "      <td>132.250000</td>\n",
       "      <td>7178800</td>\n",
       "      <td>132.250000</td>\n",
       "    </tr>\n",
       "    <tr>\n",
       "      <th>2010-01-07</th>\n",
       "      <td>132.320007</td>\n",
       "      <td>128.800003</td>\n",
       "      <td>132.009995</td>\n",
       "      <td>130.000000</td>\n",
       "      <td>11030200</td>\n",
       "      <td>130.000000</td>\n",
       "    </tr>\n",
       "    <tr>\n",
       "      <th>2010-01-08</th>\n",
       "      <td>133.679993</td>\n",
       "      <td>129.029999</td>\n",
       "      <td>130.559998</td>\n",
       "      <td>133.520004</td>\n",
       "      <td>9830500</td>\n",
       "      <td>133.520004</td>\n",
       "    </tr>\n",
       "  </tbody>\n",
       "</table>\n",
       "</div>"
      ],
      "text/plain": [
       "                  high         low        open       close    volume  \\\n",
       "Date                                                                   \n",
       "2010-01-04  136.610001  133.139999  136.250000  133.899994   7599900   \n",
       "2010-01-05  135.479996  131.809998  133.429993  134.690002   8851900   \n",
       "2010-01-06  134.729996  131.649994  134.600006  132.250000   7178800   \n",
       "2010-01-07  132.320007  128.800003  132.009995  130.000000  11030200   \n",
       "2010-01-08  133.679993  129.029999  130.559998  133.520004   9830500   \n",
       "\n",
       "             adj_close  \n",
       "Date                    \n",
       "2010-01-04  133.899994  \n",
       "2010-01-05  134.690002  \n",
       "2010-01-06  132.250000  \n",
       "2010-01-07  130.000000  \n",
       "2010-01-08  133.520004  "
      ]
     },
     "execution_count": 39,
     "metadata": {},
     "output_type": "execute_result"
    }
   ],
   "source": [
    "df.head()"
   ]
  },
  {
   "cell_type": "code",
   "execution_count": 128,
   "metadata": {},
   "outputs": [],
   "source": [
    "target_col = 'close'\n",
    "N = 30\n",
    "pred_min = 0"
   ]
  },
  {
   "cell_type": "code",
   "execution_count": 129,
   "metadata": {},
   "outputs": [
    {
     "data": {
      "text/plain": [
       "71"
      ]
     },
     "execution_count": 129,
     "metadata": {},
     "output_type": "execute_result"
    }
   ],
   "source": [
    "len(df)"
   ]
  },
  {
   "cell_type": "code",
   "execution_count": 130,
   "metadata": {},
   "outputs": [
    {
     "data": {
      "text/plain": [
       "range(30, 71)"
      ]
     },
     "execution_count": 130,
     "metadata": {},
     "output_type": "execute_result"
    }
   ],
   "source": [
    "range(N, len(df[target_col]))"
   ]
  },
  {
   "cell_type": "code",
   "execution_count": 131,
   "metadata": {},
   "outputs": [],
   "source": [
    "reg = LinearRegression(fit_intercept = True)\n",
    "\n",
    "\n",
    "pred_list = []\n",
    "one_std = []\n",
    "    \n",
    "for i in range(N, len(df[target_col])):\n",
    "    X = np.array(df.drop(target_col, axis = 1)[i-N : i])\n",
    "    Y = np.array(df[target_col][i-N : i]).reshape(-1, 1)\n",
    "        \n",
    "    # Train the model\n",
    "    reg.fit(X, Y)   \n",
    "        \n",
    "    # Predict the `N+1` day stock price\n",
    "    pred = reg.predict(np.array(df.drop(target_col, axis = 1).iloc[i]).reshape(1,-1))   \n",
    "        \n",
    "    # Add the predicted result and first standard deviation to the list\n",
    "    pred_list.append(pred[0][0])\n",
    "    one_std.append(np.std(Y))\n",
    "    \n",
    "    \n",
    "# If the values are < pred_min, set it to be pred_min\n",
    "pred_list = np.array(pred_list)\n",
    "pred_list[pred_list < pred_min] = pred_min"
   ]
  },
  {
   "cell_type": "code",
   "execution_count": 108,
   "metadata": {},
   "outputs": [
    {
     "data": {
      "text/plain": [
       "543"
      ]
     },
     "execution_count": 108,
     "metadata": {},
     "output_type": "execute_result"
    }
   ],
   "source": [
    "len(df)\n",
    "len(df_pred)\n",
    "len(one_std)"
   ]
  },
  {
   "cell_type": "code",
   "execution_count": 133,
   "metadata": {},
   "outputs": [
    {
     "data": {
      "text/html": [
       "<div>\n",
       "<style scoped>\n",
       "    .dataframe tbody tr th:only-of-type {\n",
       "        vertical-align: middle;\n",
       "    }\n",
       "\n",
       "    .dataframe tbody tr th {\n",
       "        vertical-align: top;\n",
       "    }\n",
       "\n",
       "    .dataframe thead th {\n",
       "        text-align: right;\n",
       "    }\n",
       "</style>\n",
       "<table border=\"1\" class=\"dataframe\">\n",
       "  <thead>\n",
       "    <tr style=\"text-align: right;\">\n",
       "      <th></th>\n",
       "      <th>high</th>\n",
       "      <th>low</th>\n",
       "      <th>open</th>\n",
       "      <th>close</th>\n",
       "      <th>volume</th>\n",
       "      <th>adj_close</th>\n",
       "      <th>Prediction</th>\n",
       "      <th>Upper</th>\n",
       "      <th>Lower</th>\n",
       "    </tr>\n",
       "    <tr>\n",
       "      <th>Date</th>\n",
       "      <th></th>\n",
       "      <th></th>\n",
       "      <th></th>\n",
       "      <th></th>\n",
       "      <th></th>\n",
       "      <th></th>\n",
       "      <th></th>\n",
       "      <th></th>\n",
       "      <th></th>\n",
       "    </tr>\n",
       "  </thead>\n",
       "  <tbody>\n",
       "    <tr>\n",
       "      <th>2020-01-15</th>\n",
       "      <td>315.500000</td>\n",
       "      <td>309.549988</td>\n",
       "      <td>311.850006</td>\n",
       "      <td>311.339996</td>\n",
       "      <td>30480900.0</td>\n",
       "      <td>310.602844</td>\n",
       "      <td>311.340004</td>\n",
       "      <td>327.405585</td>\n",
       "      <td>295.274424</td>\n",
       "    </tr>\n",
       "    <tr>\n",
       "      <th>2020-01-16</th>\n",
       "      <td>315.700012</td>\n",
       "      <td>312.089996</td>\n",
       "      <td>313.589996</td>\n",
       "      <td>315.239990</td>\n",
       "      <td>27207300.0</td>\n",
       "      <td>314.493591</td>\n",
       "      <td>315.239973</td>\n",
       "      <td>331.477927</td>\n",
       "      <td>299.002018</td>\n",
       "    </tr>\n",
       "    <tr>\n",
       "      <th>2020-01-17</th>\n",
       "      <td>318.739990</td>\n",
       "      <td>315.000000</td>\n",
       "      <td>316.269989</td>\n",
       "      <td>318.730011</td>\n",
       "      <td>34454100.0</td>\n",
       "      <td>317.975372</td>\n",
       "      <td>318.730020</td>\n",
       "      <td>334.927746</td>\n",
       "      <td>302.532294</td>\n",
       "    </tr>\n",
       "    <tr>\n",
       "      <th>2020-01-21</th>\n",
       "      <td>319.019989</td>\n",
       "      <td>316.000000</td>\n",
       "      <td>317.190002</td>\n",
       "      <td>316.570007</td>\n",
       "      <td>27710800.0</td>\n",
       "      <td>315.820465</td>\n",
       "      <td>316.570000</td>\n",
       "      <td>332.844889</td>\n",
       "      <td>300.295111</td>\n",
       "    </tr>\n",
       "    <tr>\n",
       "      <th>2020-01-22</th>\n",
       "      <td>319.989990</td>\n",
       "      <td>317.309998</td>\n",
       "      <td>318.579987</td>\n",
       "      <td>317.700012</td>\n",
       "      <td>25458100.0</td>\n",
       "      <td>316.947815</td>\n",
       "      <td>317.700027</td>\n",
       "      <td>333.943538</td>\n",
       "      <td>301.456516</td>\n",
       "    </tr>\n",
       "  </tbody>\n",
       "</table>\n",
       "</div>"
      ],
      "text/plain": [
       "                  high         low        open       close      volume  \\\n",
       "Date                                                                     \n",
       "2020-01-15  315.500000  309.549988  311.850006  311.339996  30480900.0   \n",
       "2020-01-16  315.700012  312.089996  313.589996  315.239990  27207300.0   \n",
       "2020-01-17  318.739990  315.000000  316.269989  318.730011  34454100.0   \n",
       "2020-01-21  319.019989  316.000000  317.190002  316.570007  27710800.0   \n",
       "2020-01-22  319.989990  317.309998  318.579987  317.700012  25458100.0   \n",
       "\n",
       "             adj_close  Prediction       Upper       Lower  \n",
       "Date                                                        \n",
       "2020-01-15  310.602844  311.340004  327.405585  295.274424  \n",
       "2020-01-16  314.493591  315.239973  331.477927  299.002018  \n",
       "2020-01-17  317.975372  318.730020  334.927746  302.532294  \n",
       "2020-01-21  315.820465  316.570000  332.844889  300.295111  \n",
       "2020-01-22  316.947815  317.700027  333.943538  301.456516  "
      ]
     },
     "execution_count": 133,
     "metadata": {},
     "output_type": "execute_result"
    }
   ],
   "source": [
    "df_pred = df.iloc[N:]\n",
    "df_pred.loc[:, 'Prediction'] = pred_list\n",
    "df_pred.loc[:, 'Upper'] = pred_list + one_std\n",
    "df_pred.loc[:, 'Lower'] = pred_list - one_std\n",
    "df_pred.head()"
   ]
  },
  {
   "cell_type": "code",
   "execution_count": 169,
   "metadata": {},
   "outputs": [
    {
     "data": {
      "text/plain": [
       "[<matplotlib.lines.Line2D at 0x1a1f937a10>]"
      ]
     },
     "execution_count": 169,
     "metadata": {},
     "output_type": "execute_result"
    },
    {
     "data": {
      "image/png": "[encoded data removed]",
      "text/plain": [
       "<Figure size 1152x720 with 1 Axes>"
      ]
     },
     "metadata": {
      "needs_background": "light"
     },
     "output_type": "display_data"
    }
   ],
   "source": [
    "fig = plt.figure(figsize=(16,10))\n",
    "\n",
    "plt.plot(df_pred[['close']], color = 'red')\n",
    "plt.plot(df_pred[['Prediction']], color = 'gray', linestyle='dashed')\n",
    "plt.plot(df_pred[['Upper']], color = 'blue', linestyle='dashed')\n",
    "plt.plot(df_pred[['Lower']], color = 'green',linestyle='dashed')"
   ]
  },
  {
   "cell_type": "code",
   "execution_count": null,
   "metadata": {},
   "outputs": [],
   "source": [
    "def linear_prediction(df, target_col, N):\n",
    "    \n",
    "    pred_list = []\n",
    "    first_sd = []\n",
    "    \n",
    "    for i in range(len(df[target_col])):\n",
    "        X = np.array(df.drop(target_col, axis = 1)[0+i : 10+i])\n",
    "        Y = np.array(df[target_col][0+i: 10+i]).reshape(-1, 1)\n",
    "    \n",
    "    "
   ]
  },
  {
   "cell_type": "code",
   "execution_count": null,
   "metadata": {},
   "outputs": [],
   "source": [
    "def linear_prediction(df, target_col, N, pred_min, offset):\n",
    "    \"\"\"\n",
    "    Given a dataframe of stock price, get prediction at timestep t using values from t-1, t-2, ..., t-N.\n",
    "    Inputs\n",
    "        df         : dataframe with the values you want to predict\n",
    "        target_col : name of the column you want to predict e.g. 'close'\n",
    "        N          : get prediction at timestep t using values from t-1, t-2, ..., t-N\n",
    "        pred_min   : all predictions should be >= pred_min, e.g. '0'\n",
    "        offset     : for df we only do predictions for df[offset:]. e.g. offset can be size of training set\n",
    "    Outputs\n",
    "        pred_list  : the predictions for target_col. np.array of length len(df)-offset.\n",
    "    \"\"\"\n",
    "    \n",
    "    # Define a regressor\n",
    "    reg = LinearRegression(fit_intercept = True)\n",
    "\n",
    "    # Create a prediction list\n",
    "    pred_list = []\n",
    "\n",
    "    for i in range(len(df[target_col])):\n",
    "                \n",
    "        # Defind the training set\n",
    "        X_train = np.array(range(len(df[target_col][i-N : i]))) # e.g. [0 1 2 3 4]\n",
    "        X_train = X_train.reshape(-1, 1) # transfor the data dimension\n",
    "        Y_train = np.array(df[target_col][i-N : i]) # e.g.[30.5728569 , 30.62571335, 30.13857079, 30.08285713, 30.28285789]\n",
    "        Y_train = Y_train.reshape(-1, 1)\n",
    "        \n",
    "        # Train the model\n",
    "        reg.fit(X_train, Y_train)        \n",
    "        \n",
    "        # Predict the `N+1` day stock price\n",
    "        pred = reg.predict(np.array(N).reshape(1,-1))\n",
    "        \n",
    "        # Add the predicted result to the list\n",
    "        pred_list.append(pred[0][0])\n",
    "        \n",
    "    # If the values are < pred_min, set it to be pred_min\n",
    "    pred_list = np.array(pred_list)\n",
    "    pred_list[pred_list < pred_min] = pred_min\n",
    "        \n",
    "    return pred_list    "
   ]
  },
  {
   "cell_type": "markdown",
   "metadata": {},
   "source": [
    "### Function: Prediction from past 30 days"
   ]
  },
  {
   "cell_type": "code",
   "execution_count": 495,
   "metadata": {},
   "outputs": [
    {
     "data": {
      "text/html": [
       "<div>\n",
       "<style scoped>\n",
       "    .dataframe tbody tr th:only-of-type {\n",
       "        vertical-align: middle;\n",
       "    }\n",
       "\n",
       "    .dataframe tbody tr th {\n",
       "        vertical-align: top;\n",
       "    }\n",
       "\n",
       "    .dataframe thead th {\n",
       "        text-align: right;\n",
       "    }\n",
       "</style>\n",
       "<table border=\"1\" class=\"dataframe\">\n",
       "  <thead>\n",
       "    <tr style=\"text-align: right;\">\n",
       "      <th></th>\n",
       "      <th>high</th>\n",
       "      <th>low</th>\n",
       "      <th>open</th>\n",
       "      <th>close</th>\n",
       "      <th>volume</th>\n",
       "      <th>adj_close</th>\n",
       "    </tr>\n",
       "    <tr>\n",
       "      <th>Date</th>\n",
       "      <th></th>\n",
       "      <th></th>\n",
       "      <th></th>\n",
       "      <th></th>\n",
       "      <th></th>\n",
       "      <th></th>\n",
       "    </tr>\n",
       "  </thead>\n",
       "  <tbody>\n",
       "    <tr>\n",
       "      <th>2019-08-01</th>\n",
       "      <td>218.029999</td>\n",
       "      <td>206.740005</td>\n",
       "      <td>213.899994</td>\n",
       "      <td>208.429993</td>\n",
       "      <td>54017900.0</td>\n",
       "      <td>206.529373</td>\n",
       "    </tr>\n",
       "    <tr>\n",
       "      <th>2019-08-02</th>\n",
       "      <td>206.429993</td>\n",
       "      <td>201.630005</td>\n",
       "      <td>205.529999</td>\n",
       "      <td>204.020004</td>\n",
       "      <td>40862100.0</td>\n",
       "      <td>202.159607</td>\n",
       "    </tr>\n",
       "    <tr>\n",
       "      <th>2019-08-05</th>\n",
       "      <td>198.649994</td>\n",
       "      <td>192.580002</td>\n",
       "      <td>197.990005</td>\n",
       "      <td>193.339996</td>\n",
       "      <td>52393000.0</td>\n",
       "      <td>191.576981</td>\n",
       "    </tr>\n",
       "    <tr>\n",
       "      <th>2019-08-06</th>\n",
       "      <td>198.070007</td>\n",
       "      <td>194.039993</td>\n",
       "      <td>196.309998</td>\n",
       "      <td>197.000000</td>\n",
       "      <td>35824800.0</td>\n",
       "      <td>195.203613</td>\n",
       "    </tr>\n",
       "    <tr>\n",
       "      <th>2019-08-07</th>\n",
       "      <td>199.559998</td>\n",
       "      <td>193.820007</td>\n",
       "      <td>195.410004</td>\n",
       "      <td>199.039993</td>\n",
       "      <td>33364400.0</td>\n",
       "      <td>197.225006</td>\n",
       "    </tr>\n",
       "  </tbody>\n",
       "</table>\n",
       "</div>"
      ],
      "text/plain": [
       "                  high         low        open       close      volume  \\\n",
       "Date                                                                     \n",
       "2019-08-01  218.029999  206.740005  213.899994  208.429993  54017900.0   \n",
       "2019-08-02  206.429993  201.630005  205.529999  204.020004  40862100.0   \n",
       "2019-08-05  198.649994  192.580002  197.990005  193.339996  52393000.0   \n",
       "2019-08-06  198.070007  194.039993  196.309998  197.000000  35824800.0   \n",
       "2019-08-07  199.559998  193.820007  195.410004  199.039993  33364400.0   \n",
       "\n",
       "             adj_close  \n",
       "Date                    \n",
       "2019-08-01  206.529373  \n",
       "2019-08-02  202.159607  \n",
       "2019-08-05  191.576981  \n",
       "2019-08-06  195.203613  \n",
       "2019-08-07  197.225006  "
      ]
     },
     "execution_count": 495,
     "metadata": {},
     "output_type": "execute_result"
    }
   ],
   "source": [
    "# Load Data\n",
    "df = data_collection('AAPL', datetime.date(2019,8,1), datetime.date(2019,10,1))\n",
    "df.head()"
   ]
  },
  {
   "cell_type": "code",
   "execution_count": 309,
   "metadata": {},
   "outputs": [],
   "source": [
    "target_col = 'close'\n",
    "pred_min = 0"
   ]
  },
  {
   "cell_type": "code",
   "execution_count": 310,
   "metadata": {},
   "outputs": [],
   "source": [
    "target_col = 'close'\n",
    "\n",
    "X = np.array(range(len(df[target_col]))).reshape(-1, 1)\n",
    "Y = np.array(df[target_col]).reshape(-1, 1)"
   ]
  },
  {
   "cell_type": "code",
   "execution_count": 311,
   "metadata": {},
   "outputs": [
    {
     "data": {
      "text/plain": [
       "22"
      ]
     },
     "execution_count": 311,
     "metadata": {},
     "output_type": "execute_result"
    }
   ],
   "source": [
    "len(Y)"
   ]
  },
  {
   "cell_type": "code",
   "execution_count": 312,
   "metadata": {},
   "outputs": [
    {
     "name": "stdout",
     "output_type": "stream",
     "text": [
      "Slope: [[0.41048586]]\n",
      "Intercept: [200.64762607]\n"
     ]
    }
   ],
   "source": [
    "model = LinearRegression(fit_intercept = True)\n",
    "\n",
    "# Train the model\n",
    "model.fit(X, Y)        \n",
    " \n",
    "print(\"Slope:\", model.coef_)\n",
    "print(\"Intercept:\", model.intercept_)\n"
   ]
  },
  {
   "cell_type": "code",
   "execution_count": 316,
   "metadata": {
    "scrolled": true
   },
   "outputs": [
    {
     "data": {
      "text/html": [
       "<div>\n",
       "<style scoped>\n",
       "    .dataframe tbody tr th:only-of-type {\n",
       "        vertical-align: middle;\n",
       "    }\n",
       "\n",
       "    .dataframe tbody tr th {\n",
       "        vertical-align: top;\n",
       "    }\n",
       "\n",
       "    .dataframe thead th {\n",
       "        text-align: right;\n",
       "    }\n",
       "</style>\n",
       "<table border=\"1\" class=\"dataframe\">\n",
       "  <thead>\n",
       "    <tr style=\"text-align: right;\">\n",
       "      <th></th>\n",
       "      <th>high</th>\n",
       "      <th>low</th>\n",
       "      <th>open</th>\n",
       "      <th>close</th>\n",
       "      <th>volume</th>\n",
       "      <th>adj_close</th>\n",
       "      <th>Prediction</th>\n",
       "      <th>Upper</th>\n",
       "      <th>Lower</th>\n",
       "    </tr>\n",
       "    <tr>\n",
       "      <th>Date</th>\n",
       "      <th></th>\n",
       "      <th></th>\n",
       "      <th></th>\n",
       "      <th></th>\n",
       "      <th></th>\n",
       "      <th></th>\n",
       "      <th></th>\n",
       "      <th></th>\n",
       "      <th></th>\n",
       "    </tr>\n",
       "  </thead>\n",
       "  <tbody>\n",
       "    <tr>\n",
       "      <th>2019-08-01</th>\n",
       "      <td>218.029999</td>\n",
       "      <td>206.740005</td>\n",
       "      <td>213.899994</td>\n",
       "      <td>208.429993</td>\n",
       "      <td>54017900.0</td>\n",
       "      <td>206.529373</td>\n",
       "      <td>200.647626</td>\n",
       "      <td>204.086825</td>\n",
       "      <td>197.208427</td>\n",
       "    </tr>\n",
       "    <tr>\n",
       "      <th>2019-08-02</th>\n",
       "      <td>206.429993</td>\n",
       "      <td>201.630005</td>\n",
       "      <td>205.529999</td>\n",
       "      <td>204.020004</td>\n",
       "      <td>40862100.0</td>\n",
       "      <td>202.159607</td>\n",
       "      <td>201.058112</td>\n",
       "      <td>204.497311</td>\n",
       "      <td>197.618913</td>\n",
       "    </tr>\n",
       "    <tr>\n",
       "      <th>2019-08-05</th>\n",
       "      <td>198.649994</td>\n",
       "      <td>192.580002</td>\n",
       "      <td>197.990005</td>\n",
       "      <td>193.339996</td>\n",
       "      <td>52393000.0</td>\n",
       "      <td>191.576981</td>\n",
       "      <td>201.468598</td>\n",
       "      <td>204.907797</td>\n",
       "      <td>198.029399</td>\n",
       "    </tr>\n",
       "    <tr>\n",
       "      <th>2019-08-06</th>\n",
       "      <td>198.070007</td>\n",
       "      <td>194.039993</td>\n",
       "      <td>196.309998</td>\n",
       "      <td>197.000000</td>\n",
       "      <td>35824800.0</td>\n",
       "      <td>195.203613</td>\n",
       "      <td>201.879084</td>\n",
       "      <td>205.318283</td>\n",
       "      <td>198.439885</td>\n",
       "    </tr>\n",
       "    <tr>\n",
       "      <th>2019-08-07</th>\n",
       "      <td>199.559998</td>\n",
       "      <td>193.820007</td>\n",
       "      <td>195.410004</td>\n",
       "      <td>199.039993</td>\n",
       "      <td>33364400.0</td>\n",
       "      <td>197.225006</td>\n",
       "      <td>202.289570</td>\n",
       "      <td>205.728768</td>\n",
       "      <td>198.850371</td>\n",
       "    </tr>\n",
       "    <tr>\n",
       "      <th>2019-08-08</th>\n",
       "      <td>203.529999</td>\n",
       "      <td>199.389999</td>\n",
       "      <td>200.199997</td>\n",
       "      <td>203.429993</td>\n",
       "      <td>27009500.0</td>\n",
       "      <td>201.574982</td>\n",
       "      <td>202.700055</td>\n",
       "      <td>206.139254</td>\n",
       "      <td>199.260856</td>\n",
       "    </tr>\n",
       "    <tr>\n",
       "      <th>2019-08-09</th>\n",
       "      <td>202.759995</td>\n",
       "      <td>199.289993</td>\n",
       "      <td>201.300003</td>\n",
       "      <td>200.990005</td>\n",
       "      <td>24619700.0</td>\n",
       "      <td>199.913925</td>\n",
       "      <td>203.110541</td>\n",
       "      <td>206.549740</td>\n",
       "      <td>199.671342</td>\n",
       "    </tr>\n",
       "    <tr>\n",
       "      <th>2019-08-12</th>\n",
       "      <td>202.050003</td>\n",
       "      <td>199.149994</td>\n",
       "      <td>199.619995</td>\n",
       "      <td>200.479996</td>\n",
       "      <td>22474900.0</td>\n",
       "      <td>199.406647</td>\n",
       "      <td>203.521027</td>\n",
       "      <td>206.960226</td>\n",
       "      <td>200.081828</td>\n",
       "    </tr>\n",
       "    <tr>\n",
       "      <th>2019-08-13</th>\n",
       "      <td>212.139999</td>\n",
       "      <td>200.479996</td>\n",
       "      <td>201.020004</td>\n",
       "      <td>208.970001</td>\n",
       "      <td>47218500.0</td>\n",
       "      <td>207.851212</td>\n",
       "      <td>203.931513</td>\n",
       "      <td>207.370712</td>\n",
       "      <td>200.492314</td>\n",
       "    </tr>\n",
       "    <tr>\n",
       "      <th>2019-08-14</th>\n",
       "      <td>206.440002</td>\n",
       "      <td>202.589996</td>\n",
       "      <td>203.160004</td>\n",
       "      <td>202.750000</td>\n",
       "      <td>36547400.0</td>\n",
       "      <td>201.664505</td>\n",
       "      <td>204.341999</td>\n",
       "      <td>207.781198</td>\n",
       "      <td>200.902800</td>\n",
       "    </tr>\n",
       "    <tr>\n",
       "      <th>2019-08-15</th>\n",
       "      <td>205.139999</td>\n",
       "      <td>199.669998</td>\n",
       "      <td>203.460007</td>\n",
       "      <td>201.740005</td>\n",
       "      <td>27227400.0</td>\n",
       "      <td>200.659912</td>\n",
       "      <td>204.752485</td>\n",
       "      <td>208.191684</td>\n",
       "      <td>201.313286</td>\n",
       "    </tr>\n",
       "    <tr>\n",
       "      <th>2019-08-16</th>\n",
       "      <td>207.160004</td>\n",
       "      <td>203.839996</td>\n",
       "      <td>204.279999</td>\n",
       "      <td>206.500000</td>\n",
       "      <td>27620400.0</td>\n",
       "      <td>205.394424</td>\n",
       "      <td>205.162971</td>\n",
       "      <td>208.602169</td>\n",
       "      <td>201.723772</td>\n",
       "    </tr>\n",
       "    <tr>\n",
       "      <th>2019-08-19</th>\n",
       "      <td>212.729996</td>\n",
       "      <td>210.029999</td>\n",
       "      <td>210.619995</td>\n",
       "      <td>210.350006</td>\n",
       "      <td>24413600.0</td>\n",
       "      <td>209.223816</td>\n",
       "      <td>205.573456</td>\n",
       "      <td>209.012655</td>\n",
       "      <td>202.134258</td>\n",
       "    </tr>\n",
       "    <tr>\n",
       "      <th>2019-08-20</th>\n",
       "      <td>213.350006</td>\n",
       "      <td>210.320007</td>\n",
       "      <td>210.880005</td>\n",
       "      <td>210.360001</td>\n",
       "      <td>26884300.0</td>\n",
       "      <td>209.233765</td>\n",
       "      <td>205.983942</td>\n",
       "      <td>209.423141</td>\n",
       "      <td>202.544743</td>\n",
       "    </tr>\n",
       "    <tr>\n",
       "      <th>2019-08-21</th>\n",
       "      <td>213.649994</td>\n",
       "      <td>211.600006</td>\n",
       "      <td>212.990005</td>\n",
       "      <td>212.639999</td>\n",
       "      <td>21535400.0</td>\n",
       "      <td>211.501556</td>\n",
       "      <td>206.394428</td>\n",
       "      <td>209.833627</td>\n",
       "      <td>202.955229</td>\n",
       "    </tr>\n",
       "    <tr>\n",
       "      <th>2019-08-22</th>\n",
       "      <td>214.440002</td>\n",
       "      <td>210.750000</td>\n",
       "      <td>213.190002</td>\n",
       "      <td>212.460007</td>\n",
       "      <td>22253700.0</td>\n",
       "      <td>211.322525</td>\n",
       "      <td>206.804914</td>\n",
       "      <td>210.244113</td>\n",
       "      <td>203.365715</td>\n",
       "    </tr>\n",
       "    <tr>\n",
       "      <th>2019-08-23</th>\n",
       "      <td>212.050003</td>\n",
       "      <td>201.000000</td>\n",
       "      <td>209.429993</td>\n",
       "      <td>202.639999</td>\n",
       "      <td>46818000.0</td>\n",
       "      <td>201.555099</td>\n",
       "      <td>207.215400</td>\n",
       "      <td>210.654599</td>\n",
       "      <td>203.776201</td>\n",
       "    </tr>\n",
       "    <tr>\n",
       "      <th>2019-08-26</th>\n",
       "      <td>207.190002</td>\n",
       "      <td>205.059998</td>\n",
       "      <td>205.860001</td>\n",
       "      <td>206.490005</td>\n",
       "      <td>26043600.0</td>\n",
       "      <td>205.384476</td>\n",
       "      <td>207.625886</td>\n",
       "      <td>211.065085</td>\n",
       "      <td>204.186687</td>\n",
       "    </tr>\n",
       "    <tr>\n",
       "      <th>2019-08-27</th>\n",
       "      <td>208.550003</td>\n",
       "      <td>203.529999</td>\n",
       "      <td>207.860001</td>\n",
       "      <td>204.160004</td>\n",
       "      <td>25873300.0</td>\n",
       "      <td>203.066956</td>\n",
       "      <td>208.036372</td>\n",
       "      <td>211.475570</td>\n",
       "      <td>204.597173</td>\n",
       "    </tr>\n",
       "    <tr>\n",
       "      <th>2019-08-28</th>\n",
       "      <td>205.720001</td>\n",
       "      <td>203.320007</td>\n",
       "      <td>204.100006</td>\n",
       "      <td>205.529999</td>\n",
       "      <td>15938800.0</td>\n",
       "      <td>204.429626</td>\n",
       "      <td>208.446857</td>\n",
       "      <td>211.886056</td>\n",
       "      <td>205.007659</td>\n",
       "    </tr>\n",
       "    <tr>\n",
       "      <th>2019-08-29</th>\n",
       "      <td>209.320007</td>\n",
       "      <td>206.660004</td>\n",
       "      <td>208.500000</td>\n",
       "      <td>209.009995</td>\n",
       "      <td>20990500.0</td>\n",
       "      <td>207.890976</td>\n",
       "      <td>208.857343</td>\n",
       "      <td>212.296542</td>\n",
       "      <td>205.418144</td>\n",
       "    </tr>\n",
       "    <tr>\n",
       "      <th>2019-08-30</th>\n",
       "      <td>210.449997</td>\n",
       "      <td>207.199997</td>\n",
       "      <td>210.160004</td>\n",
       "      <td>208.740005</td>\n",
       "      <td>21143400.0</td>\n",
       "      <td>207.622437</td>\n",
       "      <td>209.267829</td>\n",
       "      <td>212.707028</td>\n",
       "      <td>205.828630</td>\n",
       "    </tr>\n",
       "  </tbody>\n",
       "</table>\n",
       "</div>"
      ],
      "text/plain": [
       "                  high         low        open       close      volume  \\\n",
       "Date                                                                     \n",
       "2019-08-01  218.029999  206.740005  213.899994  208.429993  54017900.0   \n",
       "2019-08-02  206.429993  201.630005  205.529999  204.020004  40862100.0   \n",
       "2019-08-05  198.649994  192.580002  197.990005  193.339996  52393000.0   \n",
       "2019-08-06  198.070007  194.039993  196.309998  197.000000  35824800.0   \n",
       "2019-08-07  199.559998  193.820007  195.410004  199.039993  33364400.0   \n",
       "2019-08-08  203.529999  199.389999  200.199997  203.429993  27009500.0   \n",
       "2019-08-09  202.759995  199.289993  201.300003  200.990005  24619700.0   \n",
       "2019-08-12  202.050003  199.149994  199.619995  200.479996  22474900.0   \n",
       "2019-08-13  212.139999  200.479996  201.020004  208.970001  47218500.0   \n",
       "2019-08-14  206.440002  202.589996  203.160004  202.750000  36547400.0   \n",
       "2019-08-15  205.139999  199.669998  203.460007  201.740005  27227400.0   \n",
       "2019-08-16  207.160004  203.839996  204.279999  206.500000  27620400.0   \n",
       "2019-08-19  212.729996  210.029999  210.619995  210.350006  24413600.0   \n",
       "2019-08-20  213.350006  210.320007  210.880005  210.360001  26884300.0   \n",
       "2019-08-21  213.649994  211.600006  212.990005  212.639999  21535400.0   \n",
       "2019-08-22  214.440002  210.750000  213.190002  212.460007  22253700.0   \n",
       "2019-08-23  212.050003  201.000000  209.429993  202.639999  46818000.0   \n",
       "2019-08-26  207.190002  205.059998  205.860001  206.490005  26043600.0   \n",
       "2019-08-27  208.550003  203.529999  207.860001  204.160004  25873300.0   \n",
       "2019-08-28  205.720001  203.320007  204.100006  205.529999  15938800.0   \n",
       "2019-08-29  209.320007  206.660004  208.500000  209.009995  20990500.0   \n",
       "2019-08-30  210.449997  207.199997  210.160004  208.740005  21143400.0   \n",
       "\n",
       "             adj_close  Prediction       Upper       Lower  \n",
       "Date                                                        \n",
       "2019-08-01  206.529373  200.647626  204.086825  197.208427  \n",
       "2019-08-02  202.159607  201.058112  204.497311  197.618913  \n",
       "2019-08-05  191.576981  201.468598  204.907797  198.029399  \n",
       "2019-08-06  195.203613  201.879084  205.318283  198.439885  \n",
       "2019-08-07  197.225006  202.289570  205.728768  198.850371  \n",
       "2019-08-08  201.574982  202.700055  206.139254  199.260856  \n",
       "2019-08-09  199.913925  203.110541  206.549740  199.671342  \n",
       "2019-08-12  199.406647  203.521027  206.960226  200.081828  \n",
       "2019-08-13  207.851212  203.931513  207.370712  200.492314  \n",
       "2019-08-14  201.664505  204.341999  207.781198  200.902800  \n",
       "2019-08-15  200.659912  204.752485  208.191684  201.313286  \n",
       "2019-08-16  205.394424  205.162971  208.602169  201.723772  \n",
       "2019-08-19  209.223816  205.573456  209.012655  202.134258  \n",
       "2019-08-20  209.233765  205.983942  209.423141  202.544743  \n",
       "2019-08-21  211.501556  206.394428  209.833627  202.955229  \n",
       "2019-08-22  211.322525  206.804914  210.244113  203.365715  \n",
       "2019-08-23  201.555099  207.215400  210.654599  203.776201  \n",
       "2019-08-26  205.384476  207.625886  211.065085  204.186687  \n",
       "2019-08-27  203.066956  208.036372  211.475570  204.597173  \n",
       "2019-08-28  204.429626  208.446857  211.886056  205.007659  \n",
       "2019-08-29  207.890976  208.857343  212.296542  205.418144  \n",
       "2019-08-30  207.622437  209.267829  212.707028  205.828630  "
      ]
     },
     "execution_count": 316,
     "metadata": {},
     "output_type": "execute_result"
    }
   ],
   "source": [
    "# If deviation closer to 0, it is more risky\n",
    "one_std = np.std(Y)\n",
    "deviation = 0.7\n",
    "\n",
    "pred_list = model.predict(X)\n",
    "df_pred = df\n",
    "df_pred.loc[:, 'Prediction'] = pred_list\n",
    "df_pred.loc[:, 'Upper'] = pred_list + one_std*deviation\n",
    "df_pred.loc[:, 'Lower'] = pred_list - one_std*deviation\n",
    "df_pred"
   ]
  }
 ],
 "metadata": {
  "kernelspec": {
   "display_name": "Python 3",
   "language": "python",
   "name": "python3"
  },
  "language_info": {
   "codemirror_mode": {
    "name": "ipython",
    "version": 3
   },
   "file_extension": ".py",
   "mimetype": "text/x-python",
   "name": "python",
   "nbconvert_exporter": "python",
   "pygments_lexer": "ipython3",
   "version": "3.7.6"
  },
  "toc": {
   "base_numbering": 1,
   "nav_menu": {},
   "number_sections": true,
   "sideBar": true,
   "skip_h1_title": false,
   "title_cell": "Table of Contents",
   "title_sidebar": "Contents",
   "toc_cell": false,
   "toc_position": {
    "height": "calc(100% - 180px)",
    "left": "10px",
    "top": "150px",
    "width": "193.391px"
   },
   "toc_section_display": true,
   "toc_window_display": true
  }
 },
 "nbformat": 4,
 "nbformat_minor": 4
}
