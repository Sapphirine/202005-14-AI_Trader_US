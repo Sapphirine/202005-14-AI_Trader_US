{
 "cells": [
  {
   "cell_type": "code",
   "execution_count": 31,
   "metadata": {},
   "outputs": [],
   "source": [
    "#import all libraries\n",
    "import numpy as np\n",
    "import pandas as pd\n",
    "import math\n",
    "import sklearn\n",
    "import sklearn.preprocessing\n",
    "from sklearn.preprocessing import MinMaxScaler\n",
    "import datetime\n",
    "import os\n",
    "import matplotlib.pyplot as plt\n",
    "import pandas_datareader.data as web\n",
    "import seaborn as sns\n",
    "import tensorflow.compat.v1 as tf\n",
    "import tensorflow as tf"
   ]
  },
  {
   "cell_type": "code",
   "execution_count": 32,
   "metadata": {
    "code_folding": []
   },
   "outputs": [],
   "source": [
    "def get_data(code, date):\n",
    "    df = web.get_data_yahoo(code, datetime.date(2019,1,1), end=date)\n",
    "    \n",
    "    # Change all column headings to be lower case, and remove spacing\n",
    "    df.columns = [str(x).lower().replace(' ', '_') for x in df.columns]\n",
    "    \n",
    "    return df"
   ]
  },
  {
   "cell_type": "code",
   "execution_count": 33,
   "metadata": {
    "code_folding": []
   },
   "outputs": [],
   "source": [
    "def preprocess(stock_data, day, seq_length, data_dim, output_dim, visual_window):\n",
    "    # Data Prepariation to 3D array\n",
    "    xy = stock_data[['open', 'close', 'high', 'low', 'volume']] #extract features\n",
    "    xy = np.array(xy.values) #convert to array\n",
    "\n",
    "    # Data Range: 0 ~ length(df)-seq_length-day+1\n",
    "    dataXY = []\n",
    "    for i in range(0, len(xy) - seq_length - day + 1):\n",
    "        _xy = xy[i:i + seq_length + day]\n",
    "        dataXY.append(_xy)  \n",
    "    # reshape dataXY\n",
    "    dataXY = np.vstack(dataXY).reshape(-1, seq_length + day, data_dim)\n",
    "    \n",
    "    # Predicted Price in 'day' days\n",
    "    app_dataX = xy[len(xy)-seq_length:len(xy)]\n",
    "    app_dataX = np.vstack(app_dataX).reshape(-1, seq_length, data_dim)\n",
    "    \n",
    "    xy_visual = dataXY\n",
    "    \n",
    "    # split to train and testing\n",
    "    train_size = int(len(dataXY) * 0.7)\n",
    "    test_size = len(dataXY) - train_size\n",
    "    xy_train, xy_test = np.array(dataXY[0:train_size]), np.array(dataXY[train_size:len(dataXY)])\n",
    "    \n",
    "    # Scaled train data\n",
    "    scaler = MinMaxScaler()\n",
    "    xy_train = xy_train.reshape((-1, data_dim)) #transfer train data to 2D\n",
    "    xy_train_new = scaler.fit_transform(xy_train) #scale the train data by column, in each column, min=0, max=1\n",
    "    xy_train_new = xy_train_new.reshape((-1, seq_length + day, data_dim))  #transfer train data to 3D\n",
    "    \n",
    "    trainX = xy_train_new[:,0:seq_length] #trainX is the stock price of each first seq_length days\n",
    "    trainY = xy_train_new[:,-1,1]  #trainY is the close price of each last day\n",
    "    \n",
    "    # Scaled test data\n",
    "    xy_test = xy_test.reshape((-1, data_dim))\n",
    "    xy_test_new = scaler.transform(xy_test) #use the scaler of train data to scale test data\n",
    "    xy_test_new = xy_test_new.reshape((-1, seq_length + day, data_dim))\n",
    "    \n",
    "    testX = xy_test_new[:, 0:seq_length]\n",
    "    testY = xy_test_new[:, -1, 1]\n",
    "    \n",
    "    # Scale the last 'day' day stock price\n",
    "    x_app = app_dataX.reshape((-1, data_dim)) #transfer to 2D\n",
    "    appX = scaler.transform(x_app) #use the scaler of train data to scale app data\n",
    "    appX = appX.reshape((-1, seq_length, data_dim)) \n",
    "    \n",
    "    # prices for calculating strategy's income\n",
    "    close_price = xy_test_new[:, seq_length - 1, 1] #close price of No.seq_length day\n",
    "    buy_price = xy_test_new[:, seq_length, 0] #open price of No.seq_length+1 day\n",
    "    sell_price = xy_test_new[:, -1, 1] #close price of the last day\n",
    "    last_day_close_price = appX[:,seq_length-1, 1]\n",
    "   \n",
    "    visualX, visualY = trainX, trainY\n",
    "\n",
    "    return trainX, trainY, testX, testY, appX, scaler, close_price, buy_price, sell_price, visualX, visualY, last_day_close_price\n"
   ]
  },
  {
   "cell_type": "code",
   "execution_count": 4,
   "metadata": {
    "code_folding": []
   },
   "outputs": [
    {
     "name": "stderr",
     "output_type": "stream",
     "text": [
      "Using TensorFlow backend.\n"
     ]
    }
   ],
   "source": [
    "from keras.layers import Input, Dense, LSTM, Reshape\n",
    "from keras.models import Model\n",
    "from keras import regularizers, callbacks\n",
    "from keras.models import Sequential\n",
    "import warnings\n",
    "warnings.filterwarnings(\"ignore\")\n",
    "\n",
    "def train(code, day, trainX, trainY, seq_length, data_dim, output_dim):\n",
    "\n",
    "    # parameters\n",
    "    epochs = 400\n",
    "    batch_size = 256\n",
    "    # LSTM parameters: return_sequences=True - the output of LSTM is a sequence; False，the output of LSTM is a number\n",
    "    # input_dim：dimension of input data\n",
    "    # input_length：time length of input data\n",
    "    model = Sequential()\n",
    "    model.add(LSTM(units=100, return_sequences=True, input_dim=trainX.shape[-1], input_length=trainX.shape[1]))\n",
    "    model.add(LSTM(units=50))\n",
    "    model.add(Dense(1))\n",
    "    model.compile(loss='mean_squared_error', optimizer='adam')\n",
    "    model.fit(trainX, trainY, epochs=epochs, batch_size=batch_size, verbose=0)\n",
    "    \n",
    "    \n",
    "    return model"
   ]
  },
  {
   "cell_type": "code",
   "execution_count": 8,
   "metadata": {
    "code_folding": []
   },
   "outputs": [],
   "source": [
    "def test(model, testX, testY, scaler, day, close_price, buy_price, sell_price, visualX, visualY):\n",
    "    # Fit the model on the test data\n",
    "    testPredict = model.predict(testX)\n",
    "    # Scale back the predicted price and the actual price\n",
    "    testPredict2 = testPredict * scaler.data_range_[:1] + scaler.data_min_[:1]\n",
    "    testY2 = testY * scaler.data_range_[:1] + scaler.data_min_[:1]\n",
    "    \n",
    "    # Scale back the buy price & sell price\n",
    "    # close_price: for comparison with the predicted price\n",
    "    close_price2 = close_price * scaler.data_range_[:1] + scaler.data_min_[:1]\n",
    "    # purchase price: the open price of the no.seq_length day\n",
    "    buy_price2 = buy_price * scaler.data_range_[:1] + scaler.data_min_[:1]\n",
    "    # selling price: the close price of the no.(seq_length+day) day\n",
    "    sell_price2 = sell_price * scaler.data_range_[:1] + scaler.data_min_[:1]\n",
    "    \n",
    "    # Error\n",
    "    result = pd.DataFrame({'Prediction': testPredict2[:,0],'Close': testY2})\n",
    "    rmse = ((result.Prediction - result.Close) ** 2).mean() ** 0.5\n",
    "    #print('RMSE is: %.2f' %rmse)\n",
    "    \n",
    "    count = 0 #count number of error which is smaller than 1%\n",
    "    correct = np.zeros(len(testPredict2)) #count the number of correct predicting the trend\n",
    "    model_income = 10000 #count the gain of the strategy\n",
    "    initial_inv = model_income\n",
    "    trade = 0 #number of trading days\n",
    "    tolerance = 1\n",
    "\n",
    "    for i in range(len(testY2)):\n",
    "        #count number of error which is smaller than 1%\n",
    "        if abs(testPredict2[i] - testY2[i]) / testY2[i] * 100 <= tolerance:\n",
    "            count += 1\n",
    "        #count the number of correct predicting the trend\n",
    "        if np.sign(testPredict2[i] - close_price2[i]) == np.sign(testY2[i] - close_price2[i]):\n",
    "            correct[i] = 1\n",
    "        #if the predicted price of 'day'th day is higher than today's close price, then trade in\n",
    "        if testPredict2[i] > close_price2[i]:\n",
    "            model_income = model_income + sell_price2[i] - buy_price2[i]\n",
    "            trade += 1\n",
    "            \n",
    "    rate_return = (model_income-initial_inv)/initial_inv\n",
    "    print('Model Income:', model_income)\n",
    "    print('Rate of Return: %f%%' %round(rate_return*100,2))\n",
    "    print('Number of Days:', len(close_price2))\n",
    "    print('Number of Trading days:', trade)\n",
    "    print('Number of Correct Predicting Trend:', correct.sum())\n",
    "    \n",
    "    visualPredict = model.predict(visualX)\n",
    "    visualPredict2 = visualPredict * scaler.data_range_[:1] + scaler.data_min_[:1] #放大和scale的逆运算\n",
    "    visualY2 = visualY * scaler.data_range_[:1] + scaler.data_min_[:1] #放大和scale的逆运算\n",
    "    \n",
    "    return testY2, testPredict2"
   ]
  },
  {
   "cell_type": "code",
   "execution_count": 13,
   "metadata": {},
   "outputs": [],
   "source": [
    "def apply(model, appX, scaler, day, last_day_close_price):\n",
    "    # The latest 10 days' prediction\n",
    "    appPredict = model.predict(appX)\n",
    "    # Scale back & reshape\n",
    "    appPredict2 = appPredict * scaler.data_range_[:1] + scaler.data_min_[:1]\n",
    "    appPredict2 = appPredict2.reshape(-1)\n",
    "    \n",
    "    # Scale back close price\n",
    "    last_close_price2 = last_day_close_price * scaler.data_range_[:1] + scaler.data_min_[:1]\n",
    "\n",
    "    Trade_Decision = 'Hold'\n",
    "    if appPredict2[0] > last_close_price2[0]: \n",
    "        Trade_Decision = 'Buy'\n",
    "    if appPredict2[0] == last_close_price2[0]: \n",
    "        Trade_Decision = 'Hold'\n",
    "    if appPredict2[0] < last_close_price2[0]: \n",
    "        Trade_Decision = 'Sell'\n",
    "\n",
    "    print(\"Future %i day's stock price: %f\" %(int(day), round(appPredict2[0],2)))\n",
    "    print(\"Today's close price:\", round(last_close_price2[0],2))\n",
    "    print(\"Trade Decision:\", Trade_Decision)\n",
    "    \n",
    "    return appPredict2"
   ]
  },
  {
   "cell_type": "code",
   "execution_count": 19,
   "metadata": {},
   "outputs": [],
   "source": [
    "import matplotlib.pyplot as plt\n",
    "def visualize(testY2, testPredict2, appPredict2, visual_window, day):\n",
    "    \n",
    "    visual_window = 100\n",
    "    plt.figure(figsize=(14,7))\n",
    "    plt.scatter(\n",
    "            list(range(len(testPredict2)+day, len(testPredict2)+day + len(appPredict2))), appPredict2, color='red')  \n",
    "    plt.plot(list(range(len(testY2))), testY2, color='blue')\n",
    "    plt.plot(list(range(len(testPredict2))), testPredict2, color='orange')\n",
    "  \n",
    "    plt.xlim((0, visual_window + day))\n",
    "    plt.legend(['True price', 'Model result', 'Prediction'], loc='upper left')\n",
    "    plt.ylabel('price')\n",
    "    plt.xlabel('time')\n",
    "    plt.show()"
   ]
  },
  {
   "cell_type": "code",
   "execution_count": 29,
   "metadata": {},
   "outputs": [],
   "source": [
    "def main():\n",
    "    code = input(\"Please enter the ticker:\") #input tricker\n",
    "    day = input(\"Number of Prediction Day：\") #input the future M days\n",
    "    day = int(day)\n",
    "    \n",
    "    #import time\n",
    "    date = datetime.date.today() # get today's date\n",
    "    \n",
    "    #parameter setting\n",
    "    timesteps = seq_length = 20 #window length\n",
    "    data_dim = 5 #dimension of input data\n",
    "    output_dim = 1 #dimension of output data\n",
    "    visual_window = 100\n",
    "    \n",
    "    try:\n",
    "        stock_data = get_data(code, date)\n",
    "    except:\n",
    "        print('Wrong ticker')\n",
    "        return\n",
    "    if len(stock_data) == 0:\n",
    "        print('Wrong ticker')\n",
    "        return\n",
    "    \n",
    "    trainX, trainY, testX, testY, appX, scaler, test_close, test_buy, test_sell, visualX, visualY, last_day_close_price = preprocess(\n",
    "        stock_data, day, seq_length, data_dim, output_dim, visual_window)\n",
    "    \n",
    "    print('Predict future %d days '%(day) + code + ' stock price，we need some time.')\n",
    "    model = train(\n",
    "            code, day, trainX, trainY, seq_length, data_dim, output_dim)\n",
    "    \n",
    "    visualY2, visualPredict2 = test(model, testX, testY, scaler, day, test_close, test_buy, test_sell, visualX, visualY)\n",
    "    appPredict2 = apply(model, appX, scaler, day, last_day_close_price)\n",
    "    visualize(visualY2, visualPredict2, appPredict2, visual_window, day)"
   ]
  },
  {
   "cell_type": "code",
   "execution_count": 30,
   "metadata": {
    "scrolled": false
   },
   "outputs": [
    {
     "name": "stdout",
     "output_type": "stream",
     "text": [
      "Please enter the ticker:AAPL\n",
      "Number of Prediction Day：20\n",
      "Predict future 20 days AAPL stock price，we need some time.\n",
      "Model Income: 10309.097434101\n",
      "Rate of Return: 3.090000%\n",
      "Number of Days: 93\n",
      "Number of Trading days: 76\n",
      "Number of Correct Predicting Trend: 55.0\n",
      "Future 20 day's stock price: 304.260000\n",
      "Today's close price: 303.33\n",
      "Trade Decision: Buy\n"
     ]
    },
    {
     "data": {
      "image/png": "[encoded data removed]",
      "text/plain": [
       "<Figure size 1008x504 with 1 Axes>"
      ]
     },
     "metadata": {
      "needs_background": "light"
     },
     "output_type": "display_data"
    }
   ],
   "source": [
    "main()"
   ]
  }
 ],
 "metadata": {
  "kernelspec": {
   "display_name": "Python 3",
   "language": "python",
   "name": "python3"
  },
  "language_info": {
   "codemirror_mode": {
    "name": "ipython",
    "version": 3
   },
   "file_extension": ".py",
   "mimetype": "text/x-python",
   "name": "python",
   "nbconvert_exporter": "python",
   "pygments_lexer": "ipython3",
   "version": "3.7.6"
  },
  "toc": {
   "base_numbering": 1,
   "nav_menu": {},
   "number_sections": true,
   "sideBar": true,
   "skip_h1_title": false,
   "title_cell": "Table of Contents",
   "title_sidebar": "Contents",
   "toc_cell": false,
   "toc_position": {},
   "toc_section_display": true,
   "toc_window_display": false
  }
 },
 "nbformat": 4,
 "nbformat_minor": 4
}
